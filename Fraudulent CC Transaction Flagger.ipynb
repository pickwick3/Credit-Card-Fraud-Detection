{
 "cells": [
  {
   "cell_type": "markdown",
   "id": "c3904196",
   "metadata": {},
   "source": [
    "# Introduction\n",
    "The goal of this project is to find the optimal machine learning model (out of Logistic Regression, Random Forest, and XGBoost) for flagging fraudulent credit card transactions. This dataset contains transactions that occurred in two days, where we have 492 frauds out of 284,807 transactions. Due to the imbalanced nature of the dataset, our models will have a hard time fitting to true signal. We will need to implement sampling techniques (Random Undersampling and SMOTE) to balance the classes. We will then implement a a hyperparameter optimization pipeline to find the best hyperparameters for each model, and then test the best performing model on \"live\" out of sample data. We will be seeding our models with pure random numbers using the quantumrandom package (A python package that observes random numbers from the ANU quantum random number generator through an API)."
   ]
  },
  {
   "cell_type": "markdown",
   "id": "931a4099",
   "metadata": {},
   "source": [
    "**Install dependencies**"
   ]
  },
  {
   "cell_type": "code",
   "execution_count": 1,
   "id": "4f390f32",
   "metadata": {},
   "outputs": [
    {
     "name": "stdout",
     "output_type": "stream",
     "text": [
      "Requirement already satisfied: imblearn in c:\\programdata\\anaconda3\\lib\\site-packages (0.0)\n",
      "Requirement already satisfied: imbalanced-learn in c:\\programdata\\anaconda3\\lib\\site-packages (from imblearn) (0.7.0)\n",
      "Requirement already satisfied: numpy>=1.13.3 in c:\\programdata\\anaconda3\\lib\\site-packages (from imbalanced-learn->imblearn) (1.20.3)\n",
      "Requirement already satisfied: joblib>=0.11 in c:\\programdata\\anaconda3\\lib\\site-packages (from imbalanced-learn->imblearn) (1.1.0)\n",
      "Requirement already satisfied: scipy>=0.19.1 in c:\\programdata\\anaconda3\\lib\\site-packages (from imbalanced-learn->imblearn) (1.7.1)\n",
      "Requirement already satisfied: scikit-learn>=0.23 in c:\\programdata\\anaconda3\\lib\\site-packages (from imbalanced-learn->imblearn) (0.24.2)\n",
      "Requirement already satisfied: threadpoolctl>=2.0.0 in c:\\programdata\\anaconda3\\lib\\site-packages (from scikit-learn>=0.23->imbalanced-learn->imblearn) (2.2.0)\n",
      "Requirement already satisfied: matplotlib in c:\\programdata\\anaconda3\\lib\\site-packages (3.4.3)\n",
      "Requirement already satisfied: cycler>=0.10 in c:\\programdata\\anaconda3\\lib\\site-packages (from matplotlib) (0.10.0)\n",
      "Requirement already satisfied: kiwisolver>=1.0.1 in c:\\programdata\\anaconda3\\lib\\site-packages (from matplotlib) (1.3.1)\n",
      "Requirement already satisfied: pillow>=6.2.0 in c:\\programdata\\anaconda3\\lib\\site-packages (from matplotlib) (8.4.0)\n",
      "Requirement already satisfied: python-dateutil>=2.7 in c:\\programdata\\anaconda3\\lib\\site-packages (from matplotlib) (2.8.2)\n",
      "Requirement already satisfied: numpy>=1.16 in c:\\programdata\\anaconda3\\lib\\site-packages (from matplotlib) (1.20.3)\n",
      "Requirement already satisfied: pyparsing>=2.2.1 in c:\\programdata\\anaconda3\\lib\\site-packages (from matplotlib) (3.0.4)\n",
      "Requirement already satisfied: six in c:\\programdata\\anaconda3\\lib\\site-packages (from cycler>=0.10->matplotlib) (1.16.0)\n",
      "Requirement already satisfied: numpy in c:\\programdata\\anaconda3\\lib\\site-packages (1.20.3)\n",
      "Requirement already satisfied: optuna in c:\\programdata\\anaconda3\\lib\\site-packages (2.10.0)\n",
      "Requirement already satisfied: packaging>=20.0 in c:\\programdata\\anaconda3\\lib\\site-packages (from optuna) (21.0)\n",
      "Requirement already satisfied: numpy in c:\\programdata\\anaconda3\\lib\\site-packages (from optuna) (1.20.3)\n",
      "Requirement already satisfied: scipy!=1.4.0 in c:\\programdata\\anaconda3\\lib\\site-packages (from optuna) (1.7.1)\n",
      "Requirement already satisfied: tqdm in c:\\programdata\\anaconda3\\lib\\site-packages (from optuna) (4.62.3)\n",
      "Requirement already satisfied: alembic in c:\\programdata\\anaconda3\\lib\\site-packages (from optuna) (1.7.7)\n",
      "Requirement already satisfied: PyYAML in c:\\programdata\\anaconda3\\lib\\site-packages (from optuna) (6.0)\n",
      "Requirement already satisfied: cmaes>=0.8.2 in c:\\programdata\\anaconda3\\lib\\site-packages (from optuna) (0.8.2)\n",
      "Requirement already satisfied: cliff in c:\\programdata\\anaconda3\\lib\\site-packages (from optuna) (3.10.1)\n",
      "Requirement already satisfied: colorlog in c:\\programdata\\anaconda3\\lib\\site-packages (from optuna) (6.6.0)\n",
      "Requirement already satisfied: sqlalchemy>=1.1.0 in c:\\programdata\\anaconda3\\lib\\site-packages (from optuna) (1.4.22)\n",
      "Requirement already satisfied: pyparsing>=2.0.2 in c:\\programdata\\anaconda3\\lib\\site-packages (from packaging>=20.0->optuna) (3.0.4)\n",
      "Requirement already satisfied: greenlet!=0.4.17 in c:\\programdata\\anaconda3\\lib\\site-packages (from sqlalchemy>=1.1.0->optuna) (1.1.1)\n",
      "Requirement already satisfied: Mako in c:\\programdata\\anaconda3\\lib\\site-packages (from alembic->optuna) (1.2.0)\n",
      "Requirement already satisfied: pbr!=2.1.0,>=2.0.0 in c:\\programdata\\anaconda3\\lib\\site-packages (from cliff->optuna) (5.8.1)\n",
      "Requirement already satisfied: PrettyTable>=0.7.2 in c:\\programdata\\anaconda3\\lib\\site-packages (from cliff->optuna) (3.2.0)\n",
      "Requirement already satisfied: autopage>=0.4.0 in c:\\programdata\\anaconda3\\lib\\site-packages (from cliff->optuna) (0.5.0)\n",
      "Requirement already satisfied: cmd2>=1.0.0 in c:\\programdata\\anaconda3\\lib\\site-packages (from cliff->optuna) (2.3.3)\n",
      "Requirement already satisfied: stevedore>=2.0.1 in c:\\programdata\\anaconda3\\lib\\site-packages (from cliff->optuna) (3.5.0)\n",
      "Requirement already satisfied: attrs>=16.3.0 in c:\\programdata\\anaconda3\\lib\\site-packages (from cmd2>=1.0.0->cliff->optuna) (21.2.0)\n",
      "Requirement already satisfied: pyperclip>=1.6 in c:\\programdata\\anaconda3\\lib\\site-packages (from cmd2>=1.0.0->cliff->optuna) (1.8.2)\n",
      "Requirement already satisfied: pyreadline3 in c:\\programdata\\anaconda3\\lib\\site-packages (from cmd2>=1.0.0->cliff->optuna) (3.4.1)\n",
      "Requirement already satisfied: wcwidth>=0.1.7 in c:\\programdata\\anaconda3\\lib\\site-packages (from cmd2>=1.0.0->cliff->optuna) (0.2.5)\n",
      "Requirement already satisfied: colorama in c:\\programdata\\anaconda3\\lib\\site-packages (from colorlog->optuna) (0.4.4)\n",
      "Requirement already satisfied: MarkupSafe>=0.9.2 in c:\\programdata\\anaconda3\\lib\\site-packages (from Mako->alembic->optuna) (1.1.1)\n",
      "Requirement already satisfied: pandas in c:\\programdata\\anaconda3\\lib\\site-packages (1.3.4)\n",
      "Requirement already satisfied: pytz>=2017.3 in c:\\programdata\\anaconda3\\lib\\site-packages (from pandas) (2021.3)\n",
      "Requirement already satisfied: numpy>=1.17.3 in c:\\programdata\\anaconda3\\lib\\site-packages (from pandas) (1.20.3)\n",
      "Requirement already satisfied: python-dateutil>=2.7.3 in c:\\programdata\\anaconda3\\lib\\site-packages (from pandas) (2.8.2)\n",
      "Requirement already satisfied: six>=1.5 in c:\\programdata\\anaconda3\\lib\\site-packages (from python-dateutil>=2.7.3->pandas) (1.16.0)\n",
      "Requirement already satisfied: seaborn in c:\\programdata\\anaconda3\\lib\\site-packages (0.11.2)\n",
      "Requirement already satisfied: numpy>=1.15 in c:\\programdata\\anaconda3\\lib\\site-packages (from seaborn) (1.20.3)\n",
      "Requirement already satisfied: pandas>=0.23 in c:\\programdata\\anaconda3\\lib\\site-packages (from seaborn) (1.3.4)\n",
      "Requirement already satisfied: matplotlib>=2.2 in c:\\programdata\\anaconda3\\lib\\site-packages (from seaborn) (3.4.3)\n",
      "Requirement already satisfied: scipy>=1.0 in c:\\programdata\\anaconda3\\lib\\site-packages (from seaborn) (1.7.1)\n",
      "Requirement already satisfied: pyparsing>=2.2.1 in c:\\programdata\\anaconda3\\lib\\site-packages (from matplotlib>=2.2->seaborn) (3.0.4)\n",
      "Requirement already satisfied: kiwisolver>=1.0.1 in c:\\programdata\\anaconda3\\lib\\site-packages (from matplotlib>=2.2->seaborn) (1.3.1)\n",
      "Requirement already satisfied: cycler>=0.10 in c:\\programdata\\anaconda3\\lib\\site-packages (from matplotlib>=2.2->seaborn) (0.10.0)\n",
      "Requirement already satisfied: pillow>=6.2.0 in c:\\programdata\\anaconda3\\lib\\site-packages (from matplotlib>=2.2->seaborn) (8.4.0)\n",
      "Requirement already satisfied: python-dateutil>=2.7 in c:\\programdata\\anaconda3\\lib\\site-packages (from matplotlib>=2.2->seaborn) (2.8.2)\n",
      "Requirement already satisfied: six in c:\\programdata\\anaconda3\\lib\\site-packages (from cycler>=0.10->matplotlib>=2.2->seaborn) (1.16.0)\n",
      "Requirement already satisfied: pytz>=2017.3 in c:\\programdata\\anaconda3\\lib\\site-packages (from pandas>=0.23->seaborn) (2021.3)\n",
      "Requirement already satisfied: sklearn in c:\\programdata\\anaconda3\\lib\\site-packages (0.0)\n",
      "Requirement already satisfied: scikit-learn in c:\\programdata\\anaconda3\\lib\\site-packages (from sklearn) (0.24.2)\n",
      "Requirement already satisfied: joblib>=0.11 in c:\\programdata\\anaconda3\\lib\\site-packages (from scikit-learn->sklearn) (1.1.0)\n",
      "Requirement already satisfied: numpy>=1.13.3 in c:\\programdata\\anaconda3\\lib\\site-packages (from scikit-learn->sklearn) (1.20.3)\n",
      "Requirement already satisfied: scipy>=0.19.1 in c:\\programdata\\anaconda3\\lib\\site-packages (from scikit-learn->sklearn) (1.7.1)\n",
      "Requirement already satisfied: threadpoolctl>=2.0.0 in c:\\programdata\\anaconda3\\lib\\site-packages (from scikit-learn->sklearn) (2.2.0)\n",
      "Requirement already satisfied: quantumrandom in c:\\programdata\\anaconda3\\lib\\site-packages (1.9.0)\n"
     ]
    }
   ],
   "source": [
    "!pip install imblearn\n",
    "!pip install matplotlib\n",
    "!pip install numpy\n",
    "!pip install optuna\n",
    "!pip install pandas\n",
    "!pip install seaborn\n",
    "!pip install sklearn\n",
    "!pip install xgboost>=1.5.2\n",
    "!pip install quantumrandom"
   ]
  },
  {
   "cell_type": "markdown",
   "id": "09c7735a",
   "metadata": {},
   "source": [
    "**Import packages**"
   ]
  },
  {
   "cell_type": "code",
   "execution_count": 2,
   "id": "772c360a",
   "metadata": {},
   "outputs": [
    {
     "name": "stdout",
     "output_type": "stream",
     "text": [
      "imblearn==0.7.0\n",
      "matplotlib==3.4.3\n",
      "matplotlib.pylab==1.20.3\n",
      "numpy==1.20.3\n",
      "optuna==2.10.0\n",
      "pandas==1.3.4\n",
      "seaborn==0.11.2\n",
      "sklearn==0.24.2\n",
      "xgboost==1.5.2\n"
     ]
    }
   ],
   "source": [
    "import collections\n",
    "from collections import Counter\n",
    "import datetime\n",
    "from datetime import datetime as dt\n",
    "import functools\n",
    "from functools import partial\n",
    "import imblearn\n",
    "from imblearn.pipeline import Pipeline\n",
    "from imblearn.over_sampling import SMOTE\n",
    "from imblearn.under_sampling import RandomUnderSampler\n",
    "import matplotlib\n",
    "import matplotlib.pyplot as plt\n",
    "import matplotlib.pylab as pl\n",
    "import numpy as np\n",
    "import optuna\n",
    "import pandas as pd\n",
    "import pkg_resources\n",
    "import quantumrandom as qr\n",
    "import seaborn as sns\n",
    "import sklearn\n",
    "from sklearn.ensemble import RandomForestClassifier\n",
    "from sklearn.linear_model import LogisticRegression\n",
    "from sklearn.model_selection import train_test_split, KFold, cross_val_score\n",
    "from sklearn.model_selection import cross_val_score\n",
    "from sklearn.metrics import (accuracy_score, precision_score, recall_score, f1_score,\n",
    "                             average_precision_score, classification_report, plot_confusion_matrix)\n",
    "from sklearn.preprocessing import RobustScaler\n",
    "import types\n",
    "import xgboost as xgb\n",
    "from xgboost import XGBClassifier\n",
    "\n",
    "%matplotlib inline\n",
    "print('\\n'.join(f'{m.__name__}=={m.__version__}' for m in globals().values() if getattr(m, '__version__', None)))"
   ]
  },
  {
   "cell_type": "markdown",
   "id": "75f8357f",
   "metadata": {},
   "source": [
    "# Data Inspection\n",
    "Unfortunately, due to confidentiality issues, the data provider could provide the original features and more background information about the data. Features V1, V2, … V28 are the principal components obtained using [PCA](https://en.wikipedia.org/wiki/Principal_component_analysis). The only features which have not been transformed with PCA are 'Time' and 'Amount'."
   ]
  },
  {
   "cell_type": "markdown",
   "id": "1d7095b5",
   "metadata": {},
   "source": [
    "**Run the following cell and SKIP THE NEXT if you are using Jupyter Notebook**"
   ]
  },
  {
   "cell_type": "code",
   "execution_count": 6,
   "id": "ad19e9f4",
   "metadata": {},
   "outputs": [
    {
     "data": {
      "text/html": [
       "<div>\n",
       "<style scoped>\n",
       "    .dataframe tbody tr th:only-of-type {\n",
       "        vertical-align: middle;\n",
       "    }\n",
       "\n",
       "    .dataframe tbody tr th {\n",
       "        vertical-align: top;\n",
       "    }\n",
       "\n",
       "    .dataframe thead th {\n",
       "        text-align: right;\n",
       "    }\n",
       "</style>\n",
       "<table border=\"1\" class=\"dataframe\">\n",
       "  <thead>\n",
       "    <tr style=\"text-align: right;\">\n",
       "      <th></th>\n",
       "      <th>Time</th>\n",
       "      <th>V1</th>\n",
       "      <th>V2</th>\n",
       "      <th>V3</th>\n",
       "      <th>V4</th>\n",
       "      <th>V5</th>\n",
       "      <th>V6</th>\n",
       "      <th>V7</th>\n",
       "      <th>V8</th>\n",
       "      <th>V9</th>\n",
       "      <th>...</th>\n",
       "      <th>V21</th>\n",
       "      <th>V22</th>\n",
       "      <th>V23</th>\n",
       "      <th>V24</th>\n",
       "      <th>V25</th>\n",
       "      <th>V26</th>\n",
       "      <th>V27</th>\n",
       "      <th>V28</th>\n",
       "      <th>Amount</th>\n",
       "      <th>Class</th>\n",
       "    </tr>\n",
       "  </thead>\n",
       "  <tbody>\n",
       "    <tr>\n",
       "      <th>0</th>\n",
       "      <td>0.0</td>\n",
       "      <td>-1.359807</td>\n",
       "      <td>-0.072781</td>\n",
       "      <td>2.536347</td>\n",
       "      <td>1.378155</td>\n",
       "      <td>-0.338321</td>\n",
       "      <td>0.462388</td>\n",
       "      <td>0.239599</td>\n",
       "      <td>0.098698</td>\n",
       "      <td>0.363787</td>\n",
       "      <td>...</td>\n",
       "      <td>-0.018307</td>\n",
       "      <td>0.277838</td>\n",
       "      <td>-0.110474</td>\n",
       "      <td>0.066928</td>\n",
       "      <td>0.128539</td>\n",
       "      <td>-0.189115</td>\n",
       "      <td>0.133558</td>\n",
       "      <td>-0.021053</td>\n",
       "      <td>149.62</td>\n",
       "      <td>0</td>\n",
       "    </tr>\n",
       "    <tr>\n",
       "      <th>1</th>\n",
       "      <td>0.0</td>\n",
       "      <td>1.191857</td>\n",
       "      <td>0.266151</td>\n",
       "      <td>0.166480</td>\n",
       "      <td>0.448154</td>\n",
       "      <td>0.060018</td>\n",
       "      <td>-0.082361</td>\n",
       "      <td>-0.078803</td>\n",
       "      <td>0.085102</td>\n",
       "      <td>-0.255425</td>\n",
       "      <td>...</td>\n",
       "      <td>-0.225775</td>\n",
       "      <td>-0.638672</td>\n",
       "      <td>0.101288</td>\n",
       "      <td>-0.339846</td>\n",
       "      <td>0.167170</td>\n",
       "      <td>0.125895</td>\n",
       "      <td>-0.008983</td>\n",
       "      <td>0.014724</td>\n",
       "      <td>2.69</td>\n",
       "      <td>0</td>\n",
       "    </tr>\n",
       "    <tr>\n",
       "      <th>2</th>\n",
       "      <td>1.0</td>\n",
       "      <td>-1.358354</td>\n",
       "      <td>-1.340163</td>\n",
       "      <td>1.773209</td>\n",
       "      <td>0.379780</td>\n",
       "      <td>-0.503198</td>\n",
       "      <td>1.800499</td>\n",
       "      <td>0.791461</td>\n",
       "      <td>0.247676</td>\n",
       "      <td>-1.514654</td>\n",
       "      <td>...</td>\n",
       "      <td>0.247998</td>\n",
       "      <td>0.771679</td>\n",
       "      <td>0.909412</td>\n",
       "      <td>-0.689281</td>\n",
       "      <td>-0.327642</td>\n",
       "      <td>-0.139097</td>\n",
       "      <td>-0.055353</td>\n",
       "      <td>-0.059752</td>\n",
       "      <td>378.66</td>\n",
       "      <td>0</td>\n",
       "    </tr>\n",
       "    <tr>\n",
       "      <th>3</th>\n",
       "      <td>1.0</td>\n",
       "      <td>-0.966272</td>\n",
       "      <td>-0.185226</td>\n",
       "      <td>1.792993</td>\n",
       "      <td>-0.863291</td>\n",
       "      <td>-0.010309</td>\n",
       "      <td>1.247203</td>\n",
       "      <td>0.237609</td>\n",
       "      <td>0.377436</td>\n",
       "      <td>-1.387024</td>\n",
       "      <td>...</td>\n",
       "      <td>-0.108300</td>\n",
       "      <td>0.005274</td>\n",
       "      <td>-0.190321</td>\n",
       "      <td>-1.175575</td>\n",
       "      <td>0.647376</td>\n",
       "      <td>-0.221929</td>\n",
       "      <td>0.062723</td>\n",
       "      <td>0.061458</td>\n",
       "      <td>123.50</td>\n",
       "      <td>0</td>\n",
       "    </tr>\n",
       "    <tr>\n",
       "      <th>4</th>\n",
       "      <td>2.0</td>\n",
       "      <td>-1.158233</td>\n",
       "      <td>0.877737</td>\n",
       "      <td>1.548718</td>\n",
       "      <td>0.403034</td>\n",
       "      <td>-0.407193</td>\n",
       "      <td>0.095921</td>\n",
       "      <td>0.592941</td>\n",
       "      <td>-0.270533</td>\n",
       "      <td>0.817739</td>\n",
       "      <td>...</td>\n",
       "      <td>-0.009431</td>\n",
       "      <td>0.798278</td>\n",
       "      <td>-0.137458</td>\n",
       "      <td>0.141267</td>\n",
       "      <td>-0.206010</td>\n",
       "      <td>0.502292</td>\n",
       "      <td>0.219422</td>\n",
       "      <td>0.215153</td>\n",
       "      <td>69.99</td>\n",
       "      <td>0</td>\n",
       "    </tr>\n",
       "  </tbody>\n",
       "</table>\n",
       "<p>5 rows × 31 columns</p>\n",
       "</div>"
      ],
      "text/plain": [
       "   Time        V1        V2        V3        V4        V5        V6        V7  \\\n",
       "0   0.0 -1.359807 -0.072781  2.536347  1.378155 -0.338321  0.462388  0.239599   \n",
       "1   0.0  1.191857  0.266151  0.166480  0.448154  0.060018 -0.082361 -0.078803   \n",
       "2   1.0 -1.358354 -1.340163  1.773209  0.379780 -0.503198  1.800499  0.791461   \n",
       "3   1.0 -0.966272 -0.185226  1.792993 -0.863291 -0.010309  1.247203  0.237609   \n",
       "4   2.0 -1.158233  0.877737  1.548718  0.403034 -0.407193  0.095921  0.592941   \n",
       "\n",
       "         V8        V9  ...       V21       V22       V23       V24       V25  \\\n",
       "0  0.098698  0.363787  ... -0.018307  0.277838 -0.110474  0.066928  0.128539   \n",
       "1  0.085102 -0.255425  ... -0.225775 -0.638672  0.101288 -0.339846  0.167170   \n",
       "2  0.247676 -1.514654  ...  0.247998  0.771679  0.909412 -0.689281 -0.327642   \n",
       "3  0.377436 -1.387024  ... -0.108300  0.005274 -0.190321 -1.175575  0.647376   \n",
       "4 -0.270533  0.817739  ... -0.009431  0.798278 -0.137458  0.141267 -0.206010   \n",
       "\n",
       "        V26       V27       V28  Amount  Class  \n",
       "0 -0.189115  0.133558 -0.021053  149.62      0  \n",
       "1  0.125895 -0.008983  0.014724    2.69      0  \n",
       "2 -0.139097 -0.055353 -0.059752  378.66      0  \n",
       "3 -0.221929  0.062723  0.061458  123.50      0  \n",
       "4  0.502292  0.219422  0.215153   69.99      0  \n",
       "\n",
       "[5 rows x 31 columns]"
      ]
     },
     "execution_count": 6,
     "metadata": {},
     "output_type": "execute_result"
    }
   ],
   "source": [
    "df = pd.read_csv('creditcard.csv')\n",
    "df_copy = df.copy()\n",
    "df.head()"
   ]
  },
  {
   "cell_type": "markdown",
   "id": "cea0fe9a",
   "metadata": {},
   "source": [
    "**Run the following cell if you are running this notebook in Google Colab. (Don't run it if you are in a Jupyter Notebook).**"
   ]
  },
  {
   "cell_type": "code",
   "execution_count": null,
   "id": "8b33a3d3",
   "metadata": {},
   "outputs": [],
   "source": [
    "from google.colab import drive\n",
    "\n",
    "drive.mount('/content/drive/')\n",
    "path = '/content/drive/MyDrive/Credit_Card_Fraud_Detection/creditcard.csv'\n",
    "\n",
    "df = pd.read_csv(path)\n",
    "df_copy = df.copy()\n",
    "df.head()"
   ]
  },
  {
   "cell_type": "markdown",
   "id": "412940e0",
   "metadata": {},
   "source": [
    "**0 nulls!**"
   ]
  },
  {
   "cell_type": "code",
   "execution_count": 114,
   "id": "113c0e97",
   "metadata": {},
   "outputs": [
    {
     "name": "stdout",
     "output_type": "stream",
     "text": [
      "Null Count: 0\n"
     ]
    }
   ],
   "source": [
    "print('Null Count:', df.isnull().sum().max())"
   ]
  },
  {
   "cell_type": "markdown",
   "id": "51a61e6b",
   "metadata": {},
   "source": [
    "**Only about 0.17% of all transactions were fraudulent.**"
   ]
  },
  {
   "cell_type": "code",
   "execution_count": 115,
   "id": "43cc3785",
   "metadata": {},
   "outputs": [
    {
     "name": "stdout",
     "output_type": "stream",
     "text": [
      "Counter({0: 284315, 1: 492})\n"
     ]
    },
    {
     "data": {
      "text/plain": [
       "Text(0.5, 1.0, 'Major Class Imbalance: \\n (0 = Normal, 1 = Fraud)')"
      ]
     },
     "execution_count": 115,
     "metadata": {},
     "output_type": "execute_result"
    },
    {
     "data": {
      "image/png": "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\n",
      "text/plain": [
       "<Figure size 432x288 with 1 Axes>"
      ]
     },
     "metadata": {
      "needs_background": "light"
     },
     "output_type": "display_data"
    }
   ],
   "source": [
    "counter = Counter(df['Class'])\n",
    "print(counter)\n",
    "\n",
    "sns.countplot(x='Class', data=df)\n",
    "plt.title('Major Class Imbalance: \\n (0 = Normal, 1 = Fraud)', fontsize=14)"
   ]
  },
  {
   "cell_type": "markdown",
   "id": "3cf7bbb2",
   "metadata": {},
   "source": [
    "**The transactions are evenly distributed across time.**"
   ]
  },
  {
   "cell_type": "code",
   "execution_count": 116,
   "id": "7ab1eb5c",
   "metadata": {},
   "outputs": [
    {
     "data": {
      "image/png": "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\n",
      "text/plain": [
       "<Figure size 432x288 with 1 Axes>"
      ]
     },
     "metadata": {
      "needs_background": "light"
     },
     "output_type": "display_data"
    }
   ],
   "source": [
    "plt.plot(df['Time'], df['Class'], marker='.', ls='none', markersize=2)\n",
    "plt.title('Class Frequency: \\n (0 = Normal, 1 = Fraud)', fontsize=14)\n",
    "plt.show()"
   ]
  },
  {
   "cell_type": "markdown",
   "id": "f32100c8",
   "metadata": {},
   "source": [
    "**Since most of our data is already scaled we should scale the remaining two columns (Amount and Time).**"
   ]
  },
  {
   "cell_type": "code",
   "execution_count": 117,
   "id": "91ea4579",
   "metadata": {},
   "outputs": [
    {
     "data": {
      "text/html": [
       "<div>\n",
       "<style scoped>\n",
       "    .dataframe tbody tr th:only-of-type {\n",
       "        vertical-align: middle;\n",
       "    }\n",
       "\n",
       "    .dataframe tbody tr th {\n",
       "        vertical-align: top;\n",
       "    }\n",
       "\n",
       "    .dataframe thead th {\n",
       "        text-align: right;\n",
       "    }\n",
       "</style>\n",
       "<table border=\"1\" class=\"dataframe\">\n",
       "  <thead>\n",
       "    <tr style=\"text-align: right;\">\n",
       "      <th></th>\n",
       "      <th>Time</th>\n",
       "      <th>V1</th>\n",
       "      <th>V2</th>\n",
       "      <th>V3</th>\n",
       "      <th>V4</th>\n",
       "      <th>V5</th>\n",
       "      <th>V6</th>\n",
       "      <th>V7</th>\n",
       "      <th>V8</th>\n",
       "      <th>V9</th>\n",
       "      <th>...</th>\n",
       "      <th>V21</th>\n",
       "      <th>V22</th>\n",
       "      <th>V23</th>\n",
       "      <th>V24</th>\n",
       "      <th>V25</th>\n",
       "      <th>V26</th>\n",
       "      <th>V27</th>\n",
       "      <th>V28</th>\n",
       "      <th>Amount</th>\n",
       "      <th>Class</th>\n",
       "    </tr>\n",
       "  </thead>\n",
       "  <tbody>\n",
       "    <tr>\n",
       "      <th>0</th>\n",
       "      <td>-0.994983</td>\n",
       "      <td>-1.359807</td>\n",
       "      <td>-0.072781</td>\n",
       "      <td>2.536347</td>\n",
       "      <td>1.378155</td>\n",
       "      <td>-0.338321</td>\n",
       "      <td>0.462388</td>\n",
       "      <td>0.239599</td>\n",
       "      <td>0.098698</td>\n",
       "      <td>0.363787</td>\n",
       "      <td>...</td>\n",
       "      <td>-0.018307</td>\n",
       "      <td>0.277838</td>\n",
       "      <td>-0.110474</td>\n",
       "      <td>0.066928</td>\n",
       "      <td>0.128539</td>\n",
       "      <td>-0.189115</td>\n",
       "      <td>0.133558</td>\n",
       "      <td>-0.021053</td>\n",
       "      <td>1.783274</td>\n",
       "      <td>0</td>\n",
       "    </tr>\n",
       "    <tr>\n",
       "      <th>1</th>\n",
       "      <td>-0.994983</td>\n",
       "      <td>1.191857</td>\n",
       "      <td>0.266151</td>\n",
       "      <td>0.166480</td>\n",
       "      <td>0.448154</td>\n",
       "      <td>0.060018</td>\n",
       "      <td>-0.082361</td>\n",
       "      <td>-0.078803</td>\n",
       "      <td>0.085102</td>\n",
       "      <td>-0.255425</td>\n",
       "      <td>...</td>\n",
       "      <td>-0.225775</td>\n",
       "      <td>-0.638672</td>\n",
       "      <td>0.101288</td>\n",
       "      <td>-0.339846</td>\n",
       "      <td>0.167170</td>\n",
       "      <td>0.125895</td>\n",
       "      <td>-0.008983</td>\n",
       "      <td>0.014724</td>\n",
       "      <td>-0.269825</td>\n",
       "      <td>0</td>\n",
       "    </tr>\n",
       "    <tr>\n",
       "      <th>2</th>\n",
       "      <td>-0.994972</td>\n",
       "      <td>-1.358354</td>\n",
       "      <td>-1.340163</td>\n",
       "      <td>1.773209</td>\n",
       "      <td>0.379780</td>\n",
       "      <td>-0.503198</td>\n",
       "      <td>1.800499</td>\n",
       "      <td>0.791461</td>\n",
       "      <td>0.247676</td>\n",
       "      <td>-1.514654</td>\n",
       "      <td>...</td>\n",
       "      <td>0.247998</td>\n",
       "      <td>0.771679</td>\n",
       "      <td>0.909412</td>\n",
       "      <td>-0.689281</td>\n",
       "      <td>-0.327642</td>\n",
       "      <td>-0.139097</td>\n",
       "      <td>-0.055353</td>\n",
       "      <td>-0.059752</td>\n",
       "      <td>4.983721</td>\n",
       "      <td>0</td>\n",
       "    </tr>\n",
       "    <tr>\n",
       "      <th>3</th>\n",
       "      <td>-0.994972</td>\n",
       "      <td>-0.966272</td>\n",
       "      <td>-0.185226</td>\n",
       "      <td>1.792993</td>\n",
       "      <td>-0.863291</td>\n",
       "      <td>-0.010309</td>\n",
       "      <td>1.247203</td>\n",
       "      <td>0.237609</td>\n",
       "      <td>0.377436</td>\n",
       "      <td>-1.387024</td>\n",
       "      <td>...</td>\n",
       "      <td>-0.108300</td>\n",
       "      <td>0.005274</td>\n",
       "      <td>-0.190321</td>\n",
       "      <td>-1.175575</td>\n",
       "      <td>0.647376</td>\n",
       "      <td>-0.221929</td>\n",
       "      <td>0.062723</td>\n",
       "      <td>0.061458</td>\n",
       "      <td>1.418291</td>\n",
       "      <td>0</td>\n",
       "    </tr>\n",
       "    <tr>\n",
       "      <th>4</th>\n",
       "      <td>-0.994960</td>\n",
       "      <td>-1.158233</td>\n",
       "      <td>0.877737</td>\n",
       "      <td>1.548718</td>\n",
       "      <td>0.403034</td>\n",
       "      <td>-0.407193</td>\n",
       "      <td>0.095921</td>\n",
       "      <td>0.592941</td>\n",
       "      <td>-0.270533</td>\n",
       "      <td>0.817739</td>\n",
       "      <td>...</td>\n",
       "      <td>-0.009431</td>\n",
       "      <td>0.798278</td>\n",
       "      <td>-0.137458</td>\n",
       "      <td>0.141267</td>\n",
       "      <td>-0.206010</td>\n",
       "      <td>0.502292</td>\n",
       "      <td>0.219422</td>\n",
       "      <td>0.215153</td>\n",
       "      <td>0.670579</td>\n",
       "      <td>0</td>\n",
       "    </tr>\n",
       "  </tbody>\n",
       "</table>\n",
       "<p>5 rows × 31 columns</p>\n",
       "</div>"
      ],
      "text/plain": [
       "       Time        V1        V2        V3        V4        V5        V6  \\\n",
       "0 -0.994983 -1.359807 -0.072781  2.536347  1.378155 -0.338321  0.462388   \n",
       "1 -0.994983  1.191857  0.266151  0.166480  0.448154  0.060018 -0.082361   \n",
       "2 -0.994972 -1.358354 -1.340163  1.773209  0.379780 -0.503198  1.800499   \n",
       "3 -0.994972 -0.966272 -0.185226  1.792993 -0.863291 -0.010309  1.247203   \n",
       "4 -0.994960 -1.158233  0.877737  1.548718  0.403034 -0.407193  0.095921   \n",
       "\n",
       "         V7        V8        V9  ...       V21       V22       V23       V24  \\\n",
       "0  0.239599  0.098698  0.363787  ... -0.018307  0.277838 -0.110474  0.066928   \n",
       "1 -0.078803  0.085102 -0.255425  ... -0.225775 -0.638672  0.101288 -0.339846   \n",
       "2  0.791461  0.247676 -1.514654  ...  0.247998  0.771679  0.909412 -0.689281   \n",
       "3  0.237609  0.377436 -1.387024  ... -0.108300  0.005274 -0.190321 -1.175575   \n",
       "4  0.592941 -0.270533  0.817739  ... -0.009431  0.798278 -0.137458  0.141267   \n",
       "\n",
       "        V25       V26       V27       V28    Amount  Class  \n",
       "0  0.128539 -0.189115  0.133558 -0.021053  1.783274      0  \n",
       "1  0.167170  0.125895 -0.008983  0.014724 -0.269825      0  \n",
       "2 -0.327642 -0.139097 -0.055353 -0.059752  4.983721      0  \n",
       "3  0.647376 -0.221929  0.062723  0.061458  1.418291      0  \n",
       "4 -0.206010  0.502292  0.219422  0.215153  0.670579      0  \n",
       "\n",
       "[5 rows x 31 columns]"
      ]
     },
     "execution_count": 117,
     "metadata": {},
     "output_type": "execute_result"
    }
   ],
   "source": [
    "rob_scaler = RobustScaler()\n",
    "\n",
    "df['Time'] = rob_scaler.fit_transform(df['Time'].values.reshape(-1,1))\n",
    "df['Amount'] = rob_scaler.fit_transform(df['Amount'].values.reshape(-1,1))\n",
    "\n",
    "df.head()"
   ]
  },
  {
   "cell_type": "markdown",
   "id": "4a277442",
   "metadata": {},
   "source": [
    "**Here we want to split our data into a research set (to perform optimization on) and a test set (to test final algorithm on).**"
   ]
  },
  {
   "cell_type": "code",
   "execution_count": 118,
   "id": "582d19dd",
   "metadata": {},
   "outputs": [],
   "source": [
    "research_set = df.head(int(round(len(df.index) * 2 / 3, 0)))\n",
    "test_set = df.tail(int(round(len(df.index) / 3, 0)))",
   ]
  },
  {
   "cell_type": "markdown",
   "id": "57dc9e9f",
   "metadata": {},
   "source": [
    "# Class Balancing (SMOTE)\n",
    "Synthetic Minority Oversampling Technique (SMOTE) is a staistical technique used to balance dataset classes for imbalanced classification purposes. It achieves this by creating synthetic data points based on the original data points.\n",
    "\n",
    "Random Undersampling is a technique used to balance dataset classes by creating a new dataset that keeps all samples that contain the minority class, picks a particular number of random samples that contain the majority class so that the minority class will now represent user-defined percentage of all samples.\n",
    "\n",
    "The [original paper on SMOTE](https://arxiv.org/pdf/1106.1813.pdf) suggests combining SMOTE with random undersampling of the majority class.\n",
    "\n",
    "We first oversample the minority class (Fraud) to have 10% the number of examples of the majority class (Normal). We then use random undersampling to reduce the number of examples in the majority class to have 50% more than the minority class. The resulting balanced dataframe should have 90% normal transactions and 10% fraud."
   ]
  },
  {
   "cell_type": "code",
   "execution_count": 119,
   "id": "237df59a",
   "metadata": {},
   "outputs": [
    {
     "name": "stdout",
     "output_type": "stream",
     "text": [
      "Combined Sampling Classes: Counter({0: 189501, 1: 18950})\n"
     ]
    },
    {
     "data": {
      "text/plain": [
       "Text(0.5, 1.0, 'Class Count: \\n (0 = Normal, 1 = Fraud)')"
      ]
     },
     "execution_count": 119,
     "metadata": {},
     "output_type": "execute_result"
    },
    {
     "data": {
      "image/png": "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\n",
      "text/plain": [
       "<Figure size 432x288 with 1 Axes>"
      ]
     },
     "metadata": {
      "needs_background": "light"
     },
     "output_type": "display_data"
    }
   ],
   "source": [
    "X = research_set.drop(columns='Class')\n",
    "y = research_set['Class']\n",
    "\n",
    "oversampler = SMOTE(sampling_strategy=0.1)\n",
    "undersampler = RandomUnderSampler(sampling_strategy=0.5)\n",
    "pipeline = Pipeline([('o', oversampler), ('u', undersampler)])\n",
    "X_balanced, y_balanced = oversampler.fit_resample(X, y)\n",
    "\n",
    "print('Combined Sampling Classes:', Counter(y_balanced))\n",
    "sns.countplot(x='Class', data=pd.concat([X_balanced, y_balanced], axis='columns'))\n",
    "plt.title('Class Count: \\n (0 = Normal, 1 = Fraud)', fontsize=14)"
   ]
  },
  {
   "cell_type": "markdown",
   "id": "c9809b2a",
   "metadata": {},
   "source": [
    "## Correlation Matrices\n",
    "Correlation matricies are a way of visualizing feature:feature and feature:target relationships. In this case, we will be using [Pearson's correlation](https://en.wikipedia.org/wiki/Pearson_correlation_coefficient), which measures the linear relationship between two variables and is bound between -1 and 1 (-1 meaning perfectly inversly correlated, and 1 being perfectly correlated). We want to make sure the features arent too correlated or else our models may fall victim to multicollinearity. Another thing to look for are features that are highly corelated with the target. This is one way to measure the impact of each feature, however, will use feature importance techniques later on to further explore this area."
   ]
  },
  {
   "cell_type": "code",
   "execution_count": 120,
   "id": "f1a50f43",
   "metadata": {
    "scrolled": false
   },
   "outputs": [
    {
     "data": {
      "text/plain": [
       "<AxesSubplot:title={'center':'Feature Correlation Matrix'}>"
      ]
     },
     "execution_count": 120,
     "metadata": {},
     "output_type": "execute_result"
    },
    {
     "data": {
      "image/png": "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\n",
      "text/plain": [
       "<Figure size 864x648 with 2 Axes>"
      ]
     },
     "metadata": {
      "needs_background": "light"
     },
     "output_type": "display_data"
    }
   ],
   "source": [
    "def plot_corr_mat(corr):\n",
    "    f, ax = plt.subplots(figsize=(12, 9))\n",
    "    sns.heatmap(corr, cmap='coolwarm')\n",
    "    ax.set_title('Feature Correlation Matrix', fontsize=24)\n",
    "    return ax\n",
    "\n",
    "plot_corr_mat(pd.concat([X_balanced, y_balanced], axis='columns').corr(method='pearson'))"
   ]
  },
  {
   "cell_type": "markdown",
   "id": "ff9c4abd",
   "metadata": {},
   "source": [
    "# Hyperparameter Optimization\n",
    "We want to find the optimal parameters to put in our models before comparing them. Using Optuna, we will use a bayesian approach to search for the best hyperparameters. Before optimizing, we need to define the objective functions (returns the performance metric we want to optimize) and the hyperparameter search spaces (the model parameters we want to tune) for each model. The performance metric we will be trying to optimize is the [Area Under the Precision-Recall Curve (AUCPR)](https://pages.cs.wisc.edu/~boyd/aucpr_final.pdf). There are different ways to measure AUCPR. We will be using average precision."
   ]
  },
  {
   "cell_type": "code",
   "execution_count": 121,
   "id": "25fbe019",
   "metadata": {
    "scrolled": true
   },
   "outputs": [],
   "source": [
    "def objectiveLogReg(trial, seed, X, y):\n",
    "    param = {\n",
    "        'penalty': 'l2',\n",
    "        'max_iter': trial.suggest_int('max_iter', 100, 3000, log=True),\n",
    "        'tol': trial.suggest_float('tol', 1e-5, 10.0, log=True),\n",
    "        'C': trial.suggest_categorical('C', [0.001, 0.01, 0.1, 1, 10, 100, 1000]),\n",
    "        'fit_intercept': trial.suggest_categorical('fit_intercept', [True, False]),\n",
    "        'intercept_scaling': trial.suggest_float('intercept_scaling', 0.25, 5.0, step=0.25)\n",
    "    }\n",
    "                                                    \n",
    "    rand = qr.get_data(data_type='uint16', array_length=1)[0]\n",
    "    clf = LogisticRegression(random_state=seed, **param)\n",
    "    scores = cross_val_score(clf, X, y,\n",
    "                             cv=KFold(n_splits=10, shuffle=True, random_state=rand),\n",
    "                             scoring='average_precision'\n",
    "                            )\n",
    "    return round(scores.mean(), 2)\n",
    "\n",
    "def objectiveRF(trial, seed, X, y):\n",
    "    param = {\n",
    "        'n_jobs': -1,\n",
    "        'n_estimators': trial.suggest_int('n_estimators', 10, 1000, log=True),\n",
    "        'criterion': trial.suggest_categorical('criterion', ['gini', 'entropy']),\n",
    "        'max_depth': trial.suggest_int('max_depth', 10, 300, step=10),\n",
    "        'min_samples_split': trial.suggest_int('min_samples_split', 200, 10000, log=True),\n",
    "        'min_samples_leaf': trial.suggest_int('min_samples_leaf', 200, 10000, log=True),\n",
    "        \n",
    "    }\n",
    "    \n",
    "    rand = qr.get_data(data_type='uint16', array_length=1)[0]\n",
    "    clf = RandomForestClassifier(random_state=seed, **param)\n",
    "    scores = cross_val_score(clf, X, y,\n",
    "                             cv=KFold(n_splits=10, shuffle=True, random_state=rand),\n",
    "                             scoring='average_precision'\n",
    "                            )\n",
    "    return round(scores.mean(), 2)\n",
    "\n",
    "def objectiveXGB(trial, seed, X, y):\n",
    "    param = {\n",
    "        'verbosity': 0,\n",
    "        'tree_method': 'exact',\n",
    "        'booster': trial.suggest_categorical('booster', ['gbtree', 'gblinear', 'dart']),\n",
    "        'lambda': trial.suggest_float('lambda', 1e-8, 1.0, log=True),\n",
    "        'alpha': trial.suggest_float('alpha', 1e-8, 1.0, log=True),\n",
    "        'subsample': trial.suggest_float('subsample', 0.2, 1.0),\n",
    "        'colsample_bytree': trial.suggest_float('colsample_bytree', 0.2, 1.0),\n",
    "    }\n",
    "    if param['booster'] in ['gbtree', 'dart']:\n",
    "        param['max_depth'] = trial.suggest_int('max_depth', 3, 9, step=2)\n",
    "        param['min_child_weight'] = trial.suggest_int('min_child_weight', 2, 10)\n",
    "        param['eta'] = trial.suggest_float('eta', 1e-8, 1.0, log=True)\n",
    "        param['gamma'] = trial.suggest_float('gamma', 1e-8, 1.0, log=True)\n",
    "        param['grow_policy'] = trial.suggest_categorical('grow_policy', ['depthwise', 'lossguide'])\n",
    "\n",
    "    if param['booster'] == 'dart':\n",
    "        param['sample_type'] = trial.suggest_categorical('sample_type', ['uniform', 'weighted'])\n",
    "        param['normalize_type'] = trial.suggest_categorical('normalize_type', ['tree', 'forest'])\n",
    "        param['rate_drop'] = trial.suggest_float('rate_drop', 1e-8, 1.0, log=True)\n",
    "        param['skip_drop'] = trial.suggest_float('skip_drop', 1e-8, 1.0, log=True)\n",
    "    \n",
    "    rand = qr.get_data(data_type='uint16', array_length=1)[0]\n",
    "    clf = XGBClassifier(random_state=seed, eval_metric='logloss', use_label_encoder=False, **param)\n",
    "    scores = cross_val_score(clf, X, y,\n",
    "                             cv=KFold(n_splits=10, shuffle=True, random_state=rand),\n",
    "                             scoring='average_precision'\n",
    "                            )\n",
    "    return round(scores.mean(), 2)"
   ]
  },
  {
   "cell_type": "markdown",
   "id": "23f9d815",
   "metadata": {},
   "source": [
    "# Finding the best model\n",
    "After evaluating the performance each tuned model, we will choose the best model out of the three. "
   ]
  },
  {
   "cell_type": "code",
   "execution_count": 11,
   "id": "da46f693",
   "metadata": {
    "scrolled": false
   },
   "outputs": [
    {
     "name": "stderr",
     "output_type": "stream",
     "text": [
      "\u001b[32m[I 2022-04-20 02:06:51,224]\u001b[0m A new study created in memory with name: no-name-efa6b6dc-c8fc-47ea-b2d9-933f9ea64818\u001b[0m\n",
      "\u001b[32m[I 2022-04-20 02:07:02,426]\u001b[0m Trial 0 finished with value: 0.96 and parameters: {'max_iter': 820, 'tol': 3.7621124694302437, 'C': 1, 'fit_intercept': True, 'intercept_scaling': 3.0}. Best is trial 0 with value: 0.96.\u001b[0m\n",
      "\u001b[32m[I 2022-04-20 02:07:14,838]\u001b[0m Trial 1 finished with value: 0.96 and parameters: {'max_iter': 1097, 'tol': 2.0642761968544643, 'C': 1000, 'fit_intercept': True, 'intercept_scaling': 4.75}. Best is trial 0 with value: 0.96.\u001b[0m\n",
      "\u001b[32m[I 2022-04-20 02:07:27,371]\u001b[0m Trial 2 finished with value: 0.9 and parameters: {'max_iter': 612, 'tol': 2.145637852624144e-05, 'C': 0.1, 'fit_intercept': False, 'intercept_scaling': 0.75}. Best is trial 0 with value: 0.96.\u001b[0m\n",
      "\u001b[32m[I 2022-04-20 02:07:39,121]\u001b[0m Trial 3 finished with value: 0.96 and parameters: {'max_iter': 218, 'tol': 0.6056421280970012, 'C': 0.01, 'fit_intercept': True, 'intercept_scaling': 3.75}. Best is trial 0 with value: 0.96.\u001b[0m\n",
      "\u001b[32m[I 2022-04-20 02:07:54,011]\u001b[0m Trial 4 finished with value: 0.96 and parameters: {'max_iter': 117, 'tol': 0.00019577273145070638, 'C': 1000, 'fit_intercept': True, 'intercept_scaling': 3.25}. Best is trial 0 with value: 0.96.\u001b[0m\n",
      "\u001b[32m[I 2022-04-20 02:08:08,749]\u001b[0m Trial 5 finished with value: 0.96 and parameters: {'max_iter': 167, 'tol': 1.804134394134588e-05, 'C': 0.1, 'fit_intercept': True, 'intercept_scaling': 4.5}. Best is trial 0 with value: 0.96.\u001b[0m\n",
      "\u001b[32m[I 2022-04-20 02:08:19,079]\u001b[0m Trial 6 finished with value: 0.9 and parameters: {'max_iter': 1945, 'tol': 2.8474797407566177, 'C': 100, 'fit_intercept': False, 'intercept_scaling': 4.75}. Best is trial 0 with value: 0.96.\u001b[0m\n",
      "\u001b[32m[I 2022-04-20 02:08:34,049]\u001b[0m Trial 7 finished with value: 0.96 and parameters: {'max_iter': 504, 'tol': 0.0005122749498246056, 'C': 100, 'fit_intercept': True, 'intercept_scaling': 3.0}. Best is trial 0 with value: 0.96.\u001b[0m\n",
      "\u001b[32m[I 2022-04-20 02:08:46,565]\u001b[0m Trial 8 finished with value: 0.9 and parameters: {'max_iter': 966, 'tol': 0.0003426566387131459, 'C': 10, 'fit_intercept': False, 'intercept_scaling': 4.75}. Best is trial 0 with value: 0.96.\u001b[0m\n",
      "\u001b[32m[I 2022-04-20 02:09:01,812]\u001b[0m Trial 9 finished with value: 0.96 and parameters: {'max_iter': 154, 'tol': 0.00029037361992224225, 'C': 1000, 'fit_intercept': True, 'intercept_scaling': 1.75}. Best is trial 0 with value: 0.96.\u001b[0m\n",
      "\u001b[32m[I 2022-04-20 02:09:14,922]\u001b[0m Trial 10 finished with value: 0.9 and parameters: {'max_iter': 2766, 'tol': 0.05196540160277721, 'C': 1, 'fit_intercept': False, 'intercept_scaling': 2.25}. Best is trial 0 with value: 0.96.\u001b[0m\n",
      "\u001b[32m[I 2022-04-20 02:09:25,506]\u001b[0m Trial 11 finished with value: 0.96 and parameters: {'max_iter': 1228, 'tol': 8.0168417937102, 'C': 1, 'fit_intercept': True, 'intercept_scaling': 3.75}. Best is trial 0 with value: 0.96.\u001b[0m\n",
      "\u001b[32m[I 2022-04-20 02:09:33,500]\u001b[0m Trial 12 finished with value: 0.96 and parameters: {'max_iter': 392, 'tol': 0.1568599081737693, 'C': 0.001, 'fit_intercept': True, 'intercept_scaling': 1.25}. Best is trial 0 with value: 0.96.\u001b[0m\n",
      "\u001b[32m[I 2022-04-20 02:09:48,544]\u001b[0m Trial 13 finished with value: 0.96 and parameters: {'max_iter': 955, 'tol': 0.008700869919854401, 'C': 1, 'fit_intercept': True, 'intercept_scaling': 2.25}. Best is trial 0 with value: 0.96.\u001b[0m\n",
      "\u001b[32m[I 2022-04-20 02:10:00,939]\u001b[0m Trial 14 finished with value: 0.96 and parameters: {'max_iter': 1650, 'tol': 2.1952321025688772, 'C': 1000, 'fit_intercept': True, 'intercept_scaling': 0.25}. Best is trial 0 with value: 0.96.\u001b[0m\n",
      "\u001b[32m[I 2022-04-20 02:10:16,100]\u001b[0m Trial 15 finished with value: 0.96 and parameters: {'max_iter': 762, 'tol': 0.27057738344761184, 'C': 10, 'fit_intercept': True, 'intercept_scaling': 4.0}. Best is trial 0 with value: 0.96.\u001b[0m\n",
      "\u001b[32m[I 2022-04-20 02:10:23,806]\u001b[0m Trial 16 finished with value: 0.96 and parameters: {'max_iter': 329, 'tol': 0.018453137121291232, 'C': 0.001, 'fit_intercept': True, 'intercept_scaling': 3.0}. Best is trial 0 with value: 0.96.\u001b[0m\n",
      "\u001b[32m[I 2022-04-20 02:10:34,454]\u001b[0m Trial 17 finished with value: 0.96 and parameters: {'max_iter': 1677, 'tol': 8.144428009147013, 'C': 1, 'fit_intercept': True, 'intercept_scaling': 0.5}. Best is trial 0 with value: 0.96.\u001b[0m\n",
      "\u001b[32m[I 2022-04-20 02:10:47,310]\u001b[0m Trial 18 finished with value: 0.9 and parameters: {'max_iter': 595, 'tol': 0.2386318615866508, 'C': 10, 'fit_intercept': False, 'intercept_scaling': 4.0}. Best is trial 0 with value: 0.96.\u001b[0m\n",
      "\u001b[32m[I 2022-04-20 02:10:55,388]\u001b[0m Trial 19 finished with value: 0.96 and parameters: {'max_iter': 367, 'tol': 0.007324570600394267, 'C': 0.001, 'fit_intercept': True, 'intercept_scaling': 2.75}. Best is trial 0 with value: 0.96.\u001b[0m\n",
      "\u001b[32m[I 2022-04-20 02:11:06,497]\u001b[0m Trial 20 finished with value: 0.96 and parameters: {'max_iter': 2846, 'tol': 5.328795835360333, 'C': 1, 'fit_intercept': True, 'intercept_scaling': 1.25}. Best is trial 0 with value: 0.96.\u001b[0m\n",
      "\u001b[32m[I 2022-04-20 02:11:14,916]\u001b[0m Trial 21 finished with value: 0.96 and parameters: {'max_iter': 292, 'tol': 0.023209097201007556, 'C': 0.001, 'fit_intercept': True, 'intercept_scaling': 2.25}. Best is trial 0 with value: 0.96.\u001b[0m\n",
      "\u001b[32m[I 2022-04-20 02:11:31,060]\u001b[0m Trial 22 finished with value: 0.96 and parameters: {'max_iter': 1742, 'tol': 0.0028265832382717475, 'C': 1, 'fit_intercept': True, 'intercept_scaling': 2.75}. Best is trial 0 with value: 0.96.\u001b[0m\n",
      "\u001b[32m[I 2022-04-20 02:11:44,746]\u001b[0m Trial 23 finished with value: 0.96 and parameters: {'max_iter': 2867, 'tol': 0.0028011252357973866, 'C': 0.01, 'fit_intercept': True, 'intercept_scaling': 1.5}. Best is trial 0 with value: 0.96.\u001b[0m\n",
      "\u001b[32m[I 2022-04-20 02:11:52,497]\u001b[0m Trial 24 finished with value: 0.96 and parameters: {'max_iter': 255, 'tol': 0.790784631435963, 'C': 0.001, 'fit_intercept': True, 'intercept_scaling': 2.0}. Best is trial 0 with value: 0.96.\u001b[0m\n",
      "\u001b[32m[I 2022-04-20 02:12:08,869]\u001b[0m Trial 25 finished with value: 0.96 and parameters: {'max_iter': 489, 'tol': 0.0016720688254895344, 'C': 1, 'fit_intercept': True, 'intercept_scaling': 2.5}. Best is trial 0 with value: 0.96.\u001b[0m\n",
      "\u001b[32m[I 2022-04-20 02:12:22,641]\u001b[0m Trial 26 finished with value: 0.96 and parameters: {'max_iter': 2240, 'tol': 0.0017970951191961678, 'C': 0.01, 'fit_intercept': True, 'intercept_scaling': 1.5}. Best is trial 0 with value: 0.96.\u001b[0m\n",
      "\u001b[32m[I 2022-04-20 02:12:33,037]\u001b[0m Trial 27 finished with value: 0.9 and parameters: {'max_iter': 1333, 'tol': 0.7739502618303068, 'C': 0.01, 'fit_intercept': False, 'intercept_scaling': 1.75}. Best is trial 0 with value: 0.96.\u001b[0m\n",
      "\u001b[32m[I 2022-04-20 02:12:49,364]\u001b[0m Trial 28 finished with value: 0.96 and parameters: {'max_iter': 249, 'tol': 0.05716312464400419, 'C': 1, 'fit_intercept': True, 'intercept_scaling': 3.25}. Best is trial 0 with value: 0.96.\u001b[0m\n",
      "\u001b[32m[I 2022-04-20 02:13:02,666]\u001b[0m Trial 29 finished with value: 0.96 and parameters: {'max_iter': 491, 'tol': 0.0012337191355770978, 'C': 0.01, 'fit_intercept': True, 'intercept_scaling': 1.0}. Best is trial 0 with value: 0.96.\u001b[0m\n",
      "\u001b[32m[I 2022-04-20 02:13:16,203]\u001b[0m Trial 30 finished with value: 0.96 and parameters: {'max_iter': 742, 'tol': 7.079410955669241e-05, 'C': 0.01, 'fit_intercept': True, 'intercept_scaling': 2.5}. Best is trial 0 with value: 0.96.\u001b[0m\n",
      "\u001b[32m[I 2022-04-20 02:13:32,237]\u001b[0m Trial 31 finished with value: 0.96 and parameters: {'max_iter': 202, 'tol': 0.0012968067005909702, 'C': 1, 'fit_intercept': True, 'intercept_scaling': 3.25}. Best is trial 0 with value: 0.96.\u001b[0m\n",
      "\u001b[32m[I 2022-04-20 02:13:45,787]\u001b[0m Trial 32 finished with value: 0.96 and parameters: {'max_iter': 439, 'tol': 9.660059112924178e-05, 'C': 0.01, 'fit_intercept': True, 'intercept_scaling': 1.0}. Best is trial 0 with value: 0.96.\u001b[0m\n",
      "\u001b[32m[I 2022-04-20 02:13:59,414]\u001b[0m Trial 33 finished with value: 0.96 and parameters: {'max_iter': 738, 'tol': 5.1923238183046614e-05, 'C': 0.01, 'fit_intercept': True, 'intercept_scaling': 3.5}. Best is trial 0 with value: 0.96.\u001b[0m\n",
      "\u001b[32m[I 2022-04-20 02:14:15,164]\u001b[0m Trial 34 finished with value: 0.96 and parameters: {'max_iter': 748, 'tol': 0.0007274274404988446, 'C': 0.1, 'fit_intercept': True, 'intercept_scaling': 4.25}. Best is trial 0 with value: 0.96.\u001b[0m\n"
     ]
    },
    {
     "name": "stderr",
     "output_type": "stream",
     "text": [
      "\u001b[32m[I 2022-04-20 02:14:28,888]\u001b[0m Trial 35 finished with value: 0.96 and parameters: {'max_iter': 177, 'tol': 8.45412472011259e-05, 'C': 0.01, 'fit_intercept': True, 'intercept_scaling': 3.5}. Best is trial 0 with value: 0.96.\u001b[0m\n",
      "\u001b[32m[I 2022-04-20 02:14:39,597]\u001b[0m Trial 36 finished with value: 0.9 and parameters: {'max_iter': 907, 'tol': 5.368420965820111e-05, 'C': 0.01, 'fit_intercept': False, 'intercept_scaling': 3.5}. Best is trial 0 with value: 0.96.\u001b[0m\n",
      "\u001b[32m[I 2022-04-20 02:14:55,863]\u001b[0m Trial 37 finished with value: 0.96 and parameters: {'max_iter': 570, 'tol': 1.5118188039286004e-05, 'C': 100, 'fit_intercept': True, 'intercept_scaling': 2.25}. Best is trial 0 with value: 0.96.\u001b[0m\n",
      "\u001b[32m[I 2022-04-20 02:15:04,267]\u001b[0m Trial 38 finished with value: 0.96 and parameters: {'max_iter': 2340, 'tol': 0.003335291418303619, 'C': 0.001, 'fit_intercept': True, 'intercept_scaling': 2.75}. Best is trial 0 with value: 0.96.\u001b[0m\n",
      "\u001b[32m[I 2022-04-20 02:15:17,544]\u001b[0m Trial 39 finished with value: 0.9 and parameters: {'max_iter': 1515, 'tol': 0.004517897311357143, 'C': 0.1, 'fit_intercept': False, 'intercept_scaling': 2.0}. Best is trial 0 with value: 0.96.\u001b[0m\n",
      "\u001b[32m[I 2022-04-20 02:15:33,590]\u001b[0m Trial 40 finished with value: 0.96 and parameters: {'max_iter': 103, 'tol': 0.02123116649069347, 'C': 100, 'fit_intercept': True, 'intercept_scaling': 3.0}. Best is trial 0 with value: 0.96.\u001b[0m\n",
      "\u001b[32m[I 2022-04-20 02:15:47,732]\u001b[0m Trial 41 finished with value: 0.96 and parameters: {'max_iter': 2120, 'tol': 1.3381098273434389, 'C': 1, 'fit_intercept': True, 'intercept_scaling': 1.75}. Best is trial 0 with value: 0.96.\u001b[0m\n",
      "\u001b[32m[I 2022-04-20 02:15:56,490]\u001b[0m Trial 42 finished with value: 0.96 and parameters: {'max_iter': 255, 'tol': 0.06042359516013078, 'C': 0.001, 'fit_intercept': True, 'intercept_scaling': 2.0}. Best is trial 0 with value: 0.96.\u001b[0m\n",
      "\u001b[32m[I 2022-04-20 02:16:13,375]\u001b[0m Trial 43 finished with value: 0.96 and parameters: {'max_iter': 2518, 'tol': 0.0031882580672427294, 'C': 1, 'fit_intercept': True, 'intercept_scaling': 2.5}. Best is trial 0 with value: 0.96.\u001b[0m\n",
      "\u001b[32m[I 2022-04-20 02:16:25,884]\u001b[0m Trial 44 finished with value: 0.96 and parameters: {'max_iter': 1893, 'tol': 3.7685294213951908, 'C': 1, 'fit_intercept': True, 'intercept_scaling': 2.75}. Best is trial 0 with value: 0.96.\u001b[0m\n",
      "\u001b[32m[I 2022-04-20 02:16:41,517]\u001b[0m Trial 45 finished with value: 0.96 and parameters: {'max_iter': 1184, 'tol': 0.0013790010710014041, 'C': 1000, 'fit_intercept': True, 'intercept_scaling': 1.5}. Best is trial 0 with value: 0.96.\u001b[0m\n",
      "\u001b[32m[I 2022-04-20 02:16:55,599]\u001b[0m Trial 46 finished with value: 0.96 and parameters: {'max_iter': 2946, 'tol': 0.00019852714268724642, 'C': 0.01, 'fit_intercept': True, 'intercept_scaling': 1.5}. Best is trial 0 with value: 0.96.\u001b[0m\n",
      "\u001b[32m[I 2022-04-20 02:17:08,444]\u001b[0m Trial 47 finished with value: 0.9 and parameters: {'max_iter': 235, 'tol': 0.5446809365226144, 'C': 1, 'fit_intercept': False, 'intercept_scaling': 2.0}. Best is trial 0 with value: 0.96.\u001b[0m\n",
      "\u001b[32m[I 2022-04-20 02:17:24,416]\u001b[0m Trial 48 finished with value: 0.96 and parameters: {'max_iter': 143, 'tol': 0.05523099467072374, 'C': 1, 'fit_intercept': True, 'intercept_scaling': 3.25}. Best is trial 0 with value: 0.96.\u001b[0m\n",
      "\u001b[32m[I 2022-04-20 02:17:41,172]\u001b[0m Trial 49 finished with value: 0.96 and parameters: {'max_iter': 480, 'tol': 0.0008204615219277532, 'C': 10, 'fit_intercept': True, 'intercept_scaling': 0.5}. Best is trial 0 with value: 0.96.\u001b[0m\n",
      "\u001b[32m[I 2022-04-20 02:17:57,484]\u001b[0m Trial 50 finished with value: 0.96 and parameters: {'max_iter': 392, 'tol': 0.001445285475834223, 'C': 1, 'fit_intercept': True, 'intercept_scaling': 0.75}. Best is trial 0 with value: 0.96.\u001b[0m\n",
      "\u001b[32m[I 2022-04-20 02:18:13,742]\u001b[0m Trial 51 finished with value: 0.96 and parameters: {'max_iter': 494, 'tol': 0.000600190246962634, 'C': 10, 'fit_intercept': True, 'intercept_scaling': 0.5}. Best is trial 0 with value: 0.96.\u001b[0m\n",
      "\u001b[32m[I 2022-04-20 02:18:27,476]\u001b[0m Trial 52 finished with value: 0.96 and parameters: {'max_iter': 183, 'tol': 0.00028828110573227947, 'C': 0.01, 'fit_intercept': True, 'intercept_scaling': 3.0}. Best is trial 0 with value: 0.96.\u001b[0m\n",
      "\u001b[32m[I 2022-04-20 02:18:44,152]\u001b[0m Trial 53 finished with value: 0.96 and parameters: {'max_iter': 657, 'tol': 0.0005112751338916547, 'C': 10, 'fit_intercept': True, 'intercept_scaling': 0.25}. Best is trial 0 with value: 0.96.\u001b[0m\n",
      "\u001b[32m[I 2022-04-20 02:18:58,058]\u001b[0m Trial 54 finished with value: 0.96 and parameters: {'max_iter': 204, 'tol': 1.0367794681475343e-05, 'C': 0.01, 'fit_intercept': True, 'intercept_scaling': 1.0}. Best is trial 0 with value: 0.96.\u001b[0m\n",
      "\u001b[32m[I 2022-04-20 02:19:11,546]\u001b[0m Trial 55 finished with value: 0.96 and parameters: {'max_iter': 134, 'tol': 3.4123314156814134e-05, 'C': 0.01, 'fit_intercept': True, 'intercept_scaling': 3.25}. Best is trial 0 with value: 0.96.\u001b[0m\n",
      "\u001b[32m[I 2022-04-20 02:19:28,514]\u001b[0m Trial 56 finished with value: 0.96 and parameters: {'max_iter': 310, 'tol': 9.940907773311257e-05, 'C': 1000, 'fit_intercept': True, 'intercept_scaling': 3.75}. Best is trial 0 with value: 0.96.\u001b[0m\n",
      "\u001b[32m[I 2022-04-20 02:19:42,360]\u001b[0m Trial 57 finished with value: 0.96 and parameters: {'max_iter': 841, 'tol': 0.00010715266953880715, 'C': 0.01, 'fit_intercept': True, 'intercept_scaling': 5.0}. Best is trial 0 with value: 0.96.\u001b[0m\n",
      "\u001b[32m[I 2022-04-20 02:19:55,272]\u001b[0m Trial 58 finished with value: 0.9 and parameters: {'max_iter': 698, 'tol': 5.403279172042183e-05, 'C': 0.1, 'fit_intercept': False, 'intercept_scaling': 4.25}. Best is trial 0 with value: 0.96.\u001b[0m\n",
      "\u001b[32m[I 2022-04-20 02:20:11,763]\u001b[0m Trial 59 finished with value: 0.96 and parameters: {'max_iter': 1018, 'tol': 2.8023007029453828e-05, 'C': 0.1, 'fit_intercept': True, 'intercept_scaling': 4.5}. Best is trial 0 with value: 0.96.\u001b[0m\n",
      "\u001b[32m[I 2022-04-20 02:20:28,003]\u001b[0m Trial 60 finished with value: 0.96 and parameters: {'max_iter': 830, 'tol': 0.00015477619974064505, 'C': 0.1, 'fit_intercept': True, 'intercept_scaling': 3.75}. Best is trial 0 with value: 0.96.\u001b[0m\n",
      "\u001b[32m[I 2022-04-20 02:20:44,125]\u001b[0m Trial 61 finished with value: 0.96 and parameters: {'max_iter': 169, 'tol': 2.9465079756282613e-05, 'C': 0.1, 'fit_intercept': True, 'intercept_scaling': 4.25}. Best is trial 0 with value: 0.96.\u001b[0m\n",
      "\u001b[32m[I 2022-04-20 02:21:00,482]\u001b[0m Trial 62 finished with value: 0.96 and parameters: {'max_iter': 605, 'tol': 1.880756022343128e-05, 'C': 100, 'fit_intercept': True, 'intercept_scaling': 3.5}. Best is trial 0 with value: 0.96.\u001b[0m\n",
      "\u001b[32m[I 2022-04-20 02:21:17,114]\u001b[0m Trial 63 finished with value: 0.96 and parameters: {'max_iter': 417, 'tol': 1.1727655168216716e-05, 'C': 100, 'fit_intercept': True, 'intercept_scaling': 4.0}. Best is trial 0 with value: 0.96.\u001b[0m\n",
      "\u001b[32m[I 2022-04-20 02:21:33,530]\u001b[0m Trial 64 finished with value: 0.96 and parameters: {'max_iter': 593, 'tol': 4.020123734710286e-05, 'C': 100, 'fit_intercept': True, 'intercept_scaling': 3.5}. Best is trial 0 with value: 0.96.\u001b[0m\n",
      "\u001b[32m[I 2022-04-20 02:21:49,972]\u001b[0m Trial 65 finished with value: 0.96 and parameters: {'max_iter': 557, 'tol': 1.0455779901477408e-05, 'C': 100, 'fit_intercept': True, 'intercept_scaling': 4.0}. Best is trial 0 with value: 0.96.\u001b[0m\n",
      "\u001b[32m[I 2022-04-20 02:22:06,085]\u001b[0m Trial 66 finished with value: 0.96 and parameters: {'max_iter': 109, 'tol': 0.006767705033412955, 'C': 100, 'fit_intercept': True, 'intercept_scaling': 3.0}. Best is trial 0 with value: 0.96.\u001b[0m\n",
      "\u001b[32m[I 2022-04-20 02:22:22,561]\u001b[0m Trial 67 finished with value: 0.96 and parameters: {'max_iter': 125, 'tol': 1.3514745804739136e-05, 'C': 100, 'fit_intercept': True, 'intercept_scaling': 3.0}. Best is trial 0 with value: 0.96.\u001b[0m\n",
      "\u001b[32m[I 2022-04-20 02:22:30,342]\u001b[0m Trial 68 finished with value: 0.96 and parameters: {'max_iter': 103, 'tol': 1.230877178421621, 'C': 0.001, 'fit_intercept': True, 'intercept_scaling': 2.25}. Best is trial 0 with value: 0.96.\u001b[0m\n",
      "\u001b[32m[I 2022-04-20 02:22:46,594]\u001b[0m Trial 69 finished with value: 0.96 and parameters: {'max_iter': 124, 'tol': 0.019161507077327503, 'C': 100, 'fit_intercept': True, 'intercept_scaling': 2.75}. Best is trial 0 with value: 0.96.\u001b[0m\n"
     ]
    },
    {
     "name": "stderr",
     "output_type": "stream",
     "text": [
      "\u001b[32m[I 2022-04-20 02:22:53,636]\u001b[0m Trial 70 finished with value: 0.88 and parameters: {'max_iter': 2149, 'tol': 0.12395306912037729, 'C': 0.001, 'fit_intercept': False, 'intercept_scaling': 1.75}. Best is trial 0 with value: 0.96.\u001b[0m\n",
      "\u001b[32m[I 2022-04-20 02:23:02,016]\u001b[0m Trial 71 finished with value: 0.96 and parameters: {'max_iter': 2575, 'tol': 0.019708597740806993, 'C': 0.001, 'fit_intercept': True, 'intercept_scaling': 2.5}. Best is trial 0 with value: 0.96.\u001b[0m\n",
      "\u001b[32m[I 2022-04-20 02:23:14,011]\u001b[0m Trial 72 finished with value: 0.96 and parameters: {'max_iter': 2482, 'tol': 4.509396274014492, 'C': 1, 'fit_intercept': True, 'intercept_scaling': 2.75}. Best is trial 0 with value: 0.96.\u001b[0m\n",
      "\u001b[32m[I 2022-04-20 02:23:22,432]\u001b[0m Trial 73 finished with value: 0.96 and parameters: {'max_iter': 2334, 'tol': 0.03155434719165083, 'C': 0.001, 'fit_intercept': True, 'intercept_scaling': 2.5}. Best is trial 0 with value: 0.96.\u001b[0m\n",
      "\u001b[32m[I 2022-04-20 02:23:34,758]\u001b[0m Trial 74 finished with value: 0.96 and parameters: {'max_iter': 1872, 'tol': 3.298347862263415, 'C': 1, 'fit_intercept': True, 'intercept_scaling': 2.0}. Best is trial 0 with value: 0.96.\u001b[0m\n",
      "\u001b[32m[I 2022-04-20 02:23:48,603]\u001b[0m Trial 75 finished with value: 0.96 and parameters: {'max_iter': 1378, 'tol': 1.4635551182303703, 'C': 1000, 'fit_intercept': True, 'intercept_scaling': 2.75}. Best is trial 0 with value: 0.96.\u001b[0m\n",
      "\u001b[32m[I 2022-04-20 02:24:04,577]\u001b[0m Trial 76 finished with value: 0.96 and parameters: {'max_iter': 152, 'tol': 0.0005048243630333386, 'C': 10, 'fit_intercept': True, 'intercept_scaling': 0.25}. Best is trial 0 with value: 0.96.\u001b[0m\n",
      "\u001b[32m[I 2022-04-20 02:24:21,014]\u001b[0m Trial 77 finished with value: 0.96 and parameters: {'max_iter': 369, 'tol': 0.000411416656226201, 'C': 10, 'fit_intercept': True, 'intercept_scaling': 0.5}. Best is trial 0 with value: 0.96.\u001b[0m\n",
      "\u001b[32m[I 2022-04-20 02:24:37,474]\u001b[0m Trial 78 finished with value: 0.96 and parameters: {'max_iter': 197, 'tol': 0.0006445616715215554, 'C': 10, 'fit_intercept': True, 'intercept_scaling': 0.5}. Best is trial 0 with value: 0.96.\u001b[0m\n",
      "\u001b[32m[I 2022-04-20 02:24:53,472]\u001b[0m Trial 79 finished with value: 0.96 and parameters: {'max_iter': 673, 'tol': 0.0002486457469838475, 'C': 10, 'fit_intercept': True, 'intercept_scaling': 0.75}. Best is trial 0 with value: 0.96.\u001b[0m\n",
      "\u001b[32m[I 2022-04-20 02:25:09,661]\u001b[0m Trial 80 finished with value: 0.96 and parameters: {'max_iter': 462, 'tol': 0.00029802758519874214, 'C': 10, 'fit_intercept': True, 'intercept_scaling': 0.75}. Best is trial 0 with value: 0.96.\u001b[0m\n",
      "\u001b[32m[I 2022-04-20 02:25:26,206]\u001b[0m Trial 81 finished with value: 0.96 and parameters: {'max_iter': 313, 'tol': 0.0009207396187103994, 'C': 1000, 'fit_intercept': True, 'intercept_scaling': 0.25}. Best is trial 0 with value: 0.96.\u001b[0m\n",
      "\u001b[32m[I 2022-04-20 02:25:39,868]\u001b[0m Trial 82 finished with value: 0.96 and parameters: {'max_iter': 339, 'tol': 0.00018113848767413178, 'C': 0.01, 'fit_intercept': True, 'intercept_scaling': 5.0}. Best is trial 0 with value: 0.96.\u001b[0m\n",
      "\u001b[32m[I 2022-04-20 02:25:55,908]\u001b[0m Trial 83 finished with value: 0.96 and parameters: {'max_iter': 844, 'tol': 2.6974168380928845e-05, 'C': 0.1, 'fit_intercept': True, 'intercept_scaling': 5.0}. Best is trial 0 with value: 0.96.\u001b[0m\n",
      "\u001b[32m[I 2022-04-20 02:26:09,699]\u001b[0m Trial 84 finished with value: 0.96 and parameters: {'max_iter': 1036, 'tol': 0.00011747937103873391, 'C': 0.01, 'fit_intercept': True, 'intercept_scaling': 4.75}. Best is trial 0 with value: 0.96.\u001b[0m\n",
      "\u001b[32m[I 2022-04-20 02:26:25,999]\u001b[0m Trial 85 finished with value: 0.96 and parameters: {'max_iter': 923, 'tol': 2.8301880570567786e-05, 'C': 0.1, 'fit_intercept': True, 'intercept_scaling': 4.5}. Best is trial 0 with value: 0.96.\u001b[0m\n",
      "\u001b[32m[I 2022-04-20 02:26:42,040]\u001b[0m Trial 86 finished with value: 0.96 and parameters: {'max_iter': 1098, 'tol': 2.505123185996177e-05, 'C': 0.1, 'fit_intercept': True, 'intercept_scaling': 4.5}. Best is trial 0 with value: 0.96.\u001b[0m\n",
      "\u001b[32m[I 2022-04-20 02:26:58,590]\u001b[0m Trial 87 finished with value: 0.96 and parameters: {'max_iter': 857, 'tol': 1.8138640588320227e-05, 'C': 0.1, 'fit_intercept': True, 'intercept_scaling': 3.75}. Best is trial 0 with value: 0.96.\u001b[0m\n",
      "\u001b[32m[I 2022-04-20 02:27:10,822]\u001b[0m Trial 88 finished with value: 0.9 and parameters: {'max_iter': 818, 'tol': 0.00012568216046886422, 'C': 0.1, 'fit_intercept': False, 'intercept_scaling': 3.75}. Best is trial 0 with value: 0.96.\u001b[0m\n",
      "\u001b[32m[I 2022-04-20 02:27:26,259]\u001b[0m Trial 89 finished with value: 0.96 and parameters: {'max_iter': 642, 'tol': 3.68298736355315e-05, 'C': 1000, 'fit_intercept': True, 'intercept_scaling': 4.25}. Best is trial 0 with value: 0.96.\u001b[0m\n",
      "\u001b[32m[I 2022-04-20 02:27:41,636]\u001b[0m Trial 90 finished with value: 0.96 and parameters: {'max_iter': 416, 'tol': 3.9394125483087506e-05, 'C': 100, 'fit_intercept': True, 'intercept_scaling': 4.0}. Best is trial 0 with value: 0.96.\u001b[0m\n",
      "\u001b[32m[I 2022-04-20 02:27:56,934]\u001b[0m Trial 91 finished with value: 0.96 and parameters: {'max_iter': 598, 'tol': 1.0767499405532604e-05, 'C': 100, 'fit_intercept': True, 'intercept_scaling': 4.0}. Best is trial 0 with value: 0.96.\u001b[0m\n",
      "\u001b[32m[I 2022-04-20 02:28:12,223]\u001b[0m Trial 92 finished with value: 0.96 and parameters: {'max_iter': 523, 'tol': 1.9159642301940957e-05, 'C': 100, 'fit_intercept': True, 'intercept_scaling': 3.5}. Best is trial 0 with value: 0.96.\u001b[0m\n",
      "\u001b[32m[I 2022-04-20 02:28:28,026]\u001b[0m Trial 93 finished with value: 0.96 and parameters: {'max_iter': 555, 'tol': 7.183418648261481e-05, 'C': 100, 'fit_intercept': True, 'intercept_scaling': 4.5}. Best is trial 0 with value: 0.96.\u001b[0m\n",
      "\u001b[32m[I 2022-04-20 02:28:43,455]\u001b[0m Trial 94 finished with value: 0.96 and parameters: {'max_iter': 114, 'tol': 1.3717352863998989e-05, 'C': 100, 'fit_intercept': True, 'intercept_scaling': 3.0}. Best is trial 0 with value: 0.96.\u001b[0m\n",
      "\u001b[32m[I 2022-04-20 02:28:58,781]\u001b[0m Trial 95 finished with value: 0.96 and parameters: {'max_iter': 115, 'tol': 1.3389877038872401e-05, 'C': 100, 'fit_intercept': True, 'intercept_scaling': 4.0}. Best is trial 0 with value: 0.96.\u001b[0m\n",
      "\u001b[32m[I 2022-04-20 02:29:13,477]\u001b[0m Trial 96 finished with value: 0.96 and parameters: {'max_iter': 129, 'tol': 2.1326079123665186e-05, 'C': 100, 'fit_intercept': True, 'intercept_scaling': 4.25}. Best is trial 0 with value: 0.96.\u001b[0m\n",
      "\u001b[32m[I 2022-04-20 02:29:29,052]\u001b[0m Trial 97 finished with value: 0.96 and parameters: {'max_iter': 109, 'tol': 4.343309373753884e-05, 'C': 100, 'fit_intercept': True, 'intercept_scaling': 3.5}. Best is trial 0 with value: 0.96.\u001b[0m\n",
      "\u001b[32m[I 2022-04-20 02:29:39,393]\u001b[0m Trial 98 finished with value: 0.96 and parameters: {'max_iter': 101, 'tol': 9.184807881470348, 'C': 100, 'fit_intercept': True, 'intercept_scaling': 3.0}. Best is trial 0 with value: 0.96.\u001b[0m\n",
      "\u001b[32m[I 2022-04-20 02:29:50,471]\u001b[0m Trial 99 finished with value: 0.96 and parameters: {'max_iter': 127, 'tol': 5.987617663789312, 'C': 100, 'fit_intercept': True, 'intercept_scaling': 2.25}. Best is trial 0 with value: 0.96.\u001b[0m\n",
      "\u001b[32m[I 2022-04-20 02:29:51,349]\u001b[0m A new study created in memory with name: no-name-6cb03d58-0c54-4b14-b075-d77f385ecf57\u001b[0m\n",
      "\u001b[32m[I 2022-04-20 02:30:12,220]\u001b[0m Trial 0 finished with value: 0.97 and parameters: {'n_estimators': 17, 'criterion': 'entropy', 'max_depth': 210, 'min_samples_split': 449, 'min_samples_leaf': 1165}. Best is trial 0 with value: 0.97.\u001b[0m\n",
      "\u001b[32m[I 2022-04-20 02:32:58,120]\u001b[0m Trial 1 finished with value: 0.96 and parameters: {'n_estimators': 297, 'criterion': 'entropy', 'max_depth': 60, 'min_samples_split': 5682, 'min_samples_leaf': 312}. Best is trial 0 with value: 0.97.\u001b[0m\n",
      "\u001b[32m[I 2022-04-20 02:39:34,062]\u001b[0m Trial 2 finished with value: 0.93 and parameters: {'n_estimators': 965, 'criterion': 'entropy', 'max_depth': 100, 'min_samples_split': 4316, 'min_samples_leaf': 5651}. Best is trial 0 with value: 0.97.\u001b[0m\n",
      "\u001b[32m[I 2022-04-20 02:40:33,805]\u001b[0m Trial 3 finished with value: 0.97 and parameters: {'n_estimators': 91, 'criterion': 'entropy', 'max_depth': 140, 'min_samples_split': 2621, 'min_samples_leaf': 1002}. Best is trial 0 with value: 0.97.\u001b[0m\n",
      "\u001b[32m[I 2022-04-20 02:41:15,275]\u001b[0m Trial 4 finished with value: 0.98 and parameters: {'n_estimators': 58, 'criterion': 'entropy', 'max_depth': 260, 'min_samples_split': 1809, 'min_samples_leaf': 207}. Best is trial 4 with value: 0.98.\u001b[0m\n"
     ]
    },
    {
     "name": "stderr",
     "output_type": "stream",
     "text": [
      "\u001b[32m[I 2022-04-20 02:43:41,390]\u001b[0m Trial 5 finished with value: 0.94 and parameters: {'n_estimators': 312, 'criterion': 'gini', 'max_depth': 170, 'min_samples_split': 9654, 'min_samples_leaf': 505}. Best is trial 4 with value: 0.98.\u001b[0m\n",
      "\u001b[32m[I 2022-04-20 02:44:10,175]\u001b[0m Trial 6 finished with value: 0.94 and parameters: {'n_estimators': 53, 'criterion': 'gini', 'max_depth': 300, 'min_samples_split': 3798, 'min_samples_leaf': 2626}. Best is trial 4 with value: 0.98.\u001b[0m\n",
      "\u001b[32m[I 2022-04-20 02:45:18,484]\u001b[0m Trial 7 finished with value: 0.95 and parameters: {'n_estimators': 126, 'criterion': 'gini', 'max_depth': 290, 'min_samples_split': 6746, 'min_samples_leaf': 220}. Best is trial 4 with value: 0.98.\u001b[0m\n",
      "\u001b[32m[I 2022-04-20 02:48:06,018]\u001b[0m Trial 8 finished with value: 0.96 and parameters: {'n_estimators': 362, 'criterion': 'gini', 'max_depth': 190, 'min_samples_split': 303, 'min_samples_leaf': 1069}. Best is trial 4 with value: 0.98.\u001b[0m\n",
      "\u001b[32m[I 2022-04-20 02:48:19,124]\u001b[0m Trial 9 finished with value: 0.94 and parameters: {'n_estimators': 13, 'criterion': 'entropy', 'max_depth': 50, 'min_samples_split': 8882, 'min_samples_leaf': 3354}. Best is trial 4 with value: 0.98.\u001b[0m\n",
      "\u001b[32m[I 2022-04-20 02:48:45,070]\u001b[0m Trial 10 finished with value: 0.98 and parameters: {'n_estimators': 32, 'criterion': 'entropy', 'max_depth': 240, 'min_samples_split': 953, 'min_samples_leaf': 493}. Best is trial 4 with value: 0.98.\u001b[0m\n",
      "\u001b[32m[I 2022-04-20 02:49:11,198]\u001b[0m Trial 11 finished with value: 0.99 and parameters: {'n_estimators': 32, 'criterion': 'entropy', 'max_depth': 230, 'min_samples_split': 922, 'min_samples_leaf': 447}. Best is trial 11 with value: 0.99.\u001b[0m\n",
      "\u001b[32m[I 2022-04-20 02:49:37,714]\u001b[0m Trial 12 finished with value: 0.98 and parameters: {'n_estimators': 32, 'criterion': 'entropy', 'max_depth': 250, 'min_samples_split': 1181, 'min_samples_leaf': 431}. Best is trial 11 with value: 0.99.\u001b[0m\n",
      "\u001b[32m[I 2022-04-20 02:50:28,704]\u001b[0m Trial 13 finished with value: 0.98 and parameters: {'n_estimators': 73, 'criterion': 'entropy', 'max_depth': 250, 'min_samples_split': 2022, 'min_samples_leaf': 241}. Best is trial 11 with value: 0.99.\u001b[0m\n",
      "\u001b[32m[I 2022-04-20 02:50:54,022]\u001b[0m Trial 14 finished with value: 0.98 and parameters: {'n_estimators': 30, 'criterion': 'entropy', 'max_depth': 230, 'min_samples_split': 611, 'min_samples_leaf': 701}. Best is trial 11 with value: 0.99.\u001b[0m\n",
      "\u001b[32m[I 2022-04-20 02:51:29,635]\u001b[0m Trial 15 finished with value: 0.98 and parameters: {'n_estimators': 49, 'criterion': 'entropy', 'max_depth': 140, 'min_samples_split': 1751, 'min_samples_leaf': 328}. Best is trial 11 with value: 0.99.\u001b[0m\n",
      "\u001b[32m[I 2022-04-20 02:51:41,993]\u001b[0m Trial 16 finished with value: 0.96 and parameters: {'n_estimators': 10, 'criterion': 'entropy', 'max_depth': 10, 'min_samples_split': 789, 'min_samples_leaf': 1878}. Best is trial 11 with value: 0.99.\u001b[0m\n",
      "\u001b[32m[I 2022-04-20 02:51:59,833]\u001b[0m Trial 17 finished with value: 0.98 and parameters: {'n_estimators': 23, 'criterion': 'entropy', 'max_depth': 220, 'min_samples_split': 562, 'min_samples_leaf': 653}. Best is trial 11 with value: 0.99.\u001b[0m\n",
      "\u001b[32m[I 2022-04-20 02:52:15,271]\u001b[0m Trial 18 finished with value: 0.97 and parameters: {'n_estimators': 17, 'criterion': 'gini', 'max_depth': 200, 'min_samples_split': 204, 'min_samples_leaf': 682}. Best is trial 11 with value: 0.99.\u001b[0m\n",
      "\u001b[32m[I 2022-04-20 02:53:49,308]\u001b[0m Trial 19 finished with value: 0.98 and parameters: {'n_estimators': 155, 'criterion': 'entropy', 'max_depth': 130, 'min_samples_split': 1522, 'min_samples_leaf': 337}. Best is trial 11 with value: 0.99.\u001b[0m\n",
      "\u001b[32m[I 2022-04-20 02:55:22,104]\u001b[0m Trial 20 finished with value: 0.99 and parameters: {'n_estimators': 152, 'criterion': 'entropy', 'max_depth': 110, 'min_samples_split': 1087, 'min_samples_leaf': 322}. Best is trial 11 with value: 0.99.\u001b[0m\n",
      "\u001b[32m[I 2022-04-20 02:57:05,928]\u001b[0m Trial 21 finished with value: 0.98 and parameters: {'n_estimators': 179, 'criterion': 'entropy', 'max_depth': 90, 'min_samples_split': 626, 'min_samples_leaf': 679}. Best is trial 11 with value: 0.99.\u001b[0m\n",
      "\u001b[32m[I 2022-04-20 02:57:35,935]\u001b[0m Trial 22 finished with value: 0.99 and parameters: {'n_estimators': 39, 'criterion': 'entropy', 'max_depth': 180, 'min_samples_split': 990, 'min_samples_leaf': 415}. Best is trial 11 with value: 0.99.\u001b[0m\n",
      "\u001b[32m[I 2022-04-20 02:58:41,488]\u001b[0m Trial 23 finished with value: 0.99 and parameters: {'n_estimators': 101, 'criterion': 'entropy', 'max_depth': 160, 'min_samples_split': 1110, 'min_samples_leaf': 391}. Best is trial 11 with value: 0.99.\u001b[0m\n",
      "\u001b[32m[I 2022-04-20 02:59:13,082]\u001b[0m Trial 24 finished with value: 0.99 and parameters: {'n_estimators': 45, 'criterion': 'entropy', 'max_depth': 180, 'min_samples_split': 849, 'min_samples_leaf': 277}. Best is trial 11 with value: 0.99.\u001b[0m\n",
      "\u001b[32m[I 2022-04-20 03:01:21,993]\u001b[0m Trial 25 finished with value: 0.99 and parameters: {'n_estimators': 221, 'criterion': 'entropy', 'max_depth': 110, 'min_samples_split': 402, 'min_samples_leaf': 292}. Best is trial 11 with value: 0.99.\u001b[0m\n",
      "\u001b[32m[I 2022-04-20 03:05:48,516]\u001b[0m Trial 26 finished with value: 0.99 and parameters: {'n_estimators': 489, 'criterion': 'entropy', 'max_depth': 160, 'min_samples_split': 326, 'min_samples_leaf': 383}. Best is trial 11 with value: 0.99.\u001b[0m\n",
      "\u001b[32m[I 2022-04-20 03:11:48,748]\u001b[0m Trial 27 finished with value: 0.95 and parameters: {'n_estimators': 894, 'criterion': 'gini', 'max_depth': 160, 'min_samples_split': 256, 'min_samples_leaf': 1741}. Best is trial 11 with value: 0.99.\u001b[0m\n",
      "\u001b[32m[I 2022-04-20 03:14:08,409]\u001b[0m Trial 28 finished with value: 0.99 and parameters: {'n_estimators': 218, 'criterion': 'entropy', 'max_depth': 70, 'min_samples_split': 423, 'min_samples_leaf': 270}. Best is trial 11 with value: 0.99.\u001b[0m\n",
      "\u001b[32m[I 2022-04-20 03:18:56,014]\u001b[0m Trial 29 finished with value: 0.98 and parameters: {'n_estimators': 555, 'criterion': 'entropy', 'max_depth': 80, 'min_samples_split': 376, 'min_samples_leaf': 891}. Best is trial 11 with value: 0.99.\u001b[0m\n",
      "\u001b[32m[I 2022-04-20 03:22:13,806]\u001b[0m Trial 30 finished with value: 0.93 and parameters: {'n_estimators': 607, 'criterion': 'entropy', 'max_depth': 120, 'min_samples_split': 294, 'min_samples_leaf': 7675}. Best is trial 11 with value: 0.99.\u001b[0m\n",
      "\u001b[32m[I 2022-04-20 03:24:23,955]\u001b[0m Trial 31 finished with value: 0.99 and parameters: {'n_estimators': 225, 'criterion': 'entropy', 'max_depth': 70, 'min_samples_split': 440, 'min_samples_leaf': 264}. Best is trial 11 with value: 0.99.\u001b[0m\n",
      "\u001b[32m[I 2022-04-20 03:26:39,495]\u001b[0m Trial 32 finished with value: 0.99 and parameters: {'n_estimators': 232, 'criterion': 'entropy', 'max_depth': 50, 'min_samples_split': 459, 'min_samples_leaf': 201}. Best is trial 11 with value: 0.99.\u001b[0m\n",
      "\u001b[32m[I 2022-04-20 03:30:51,049]\u001b[0m Trial 33 finished with value: 0.99 and parameters: {'n_estimators': 437, 'criterion': 'entropy', 'max_depth': 50, 'min_samples_split': 468, 'min_samples_leaf': 202}. Best is trial 11 with value: 0.99.\u001b[0m\n",
      "\u001b[32m[I 2022-04-20 03:34:35,128]\u001b[0m Trial 34 finished with value: 0.99 and parameters: {'n_estimators': 393, 'criterion': 'entropy', 'max_depth': 20, 'min_samples_split': 716, 'min_samples_leaf': 200}. Best is trial 11 with value: 0.99.\u001b[0m\n",
      "\u001b[32m[I 2022-04-20 03:37:06,473]\u001b[0m Trial 35 finished with value: 0.99 and parameters: {'n_estimators': 258, 'criterion': 'entropy', 'max_depth': 20, 'min_samples_split': 458, 'min_samples_leaf': 242}. Best is trial 11 with value: 0.99.\u001b[0m\n",
      "\u001b[32m[I 2022-04-20 03:39:25,967]\u001b[0m Trial 36 finished with value: 0.99 and parameters: {'n_estimators': 234, 'criterion': 'entropy', 'max_depth': 40, 'min_samples_split': 503, 'min_samples_leaf': 201}. Best is trial 11 with value: 0.99.\u001b[0m\n",
      "\u001b[32m[I 2022-04-20 03:40:44,761]\u001b[0m Trial 37 finished with value: 0.99 and parameters: {'n_estimators': 129, 'criterion': 'entropy', 'max_depth': 30, 'min_samples_split': 771, 'min_samples_leaf': 307}. Best is trial 11 with value: 0.99.\u001b[0m\n",
      "\u001b[32m[I 2022-04-20 03:41:46,422]\u001b[0m Trial 38 finished with value: 0.97 and parameters: {'n_estimators': 117, 'criterion': 'gini', 'max_depth': 30, 'min_samples_split': 2543, 'min_samples_leaf': 572}. Best is trial 11 with value: 0.99.\u001b[0m\n"
     ]
    },
    {
     "name": "stderr",
     "output_type": "stream",
     "text": [
      "\u001b[32m[I 2022-04-20 03:42:38,187]\u001b[0m Trial 39 finished with value: 0.99 and parameters: {'n_estimators': 80, 'criterion': 'entropy', 'max_depth': 140, 'min_samples_split': 708, 'min_samples_leaf': 294}. Best is trial 11 with value: 0.99.\u001b[0m\n",
      "\u001b[32m[I 2022-04-20 03:43:13,974]\u001b[0m Trial 40 finished with value: 0.96 and parameters: {'n_estimators': 71, 'criterion': 'gini', 'max_depth': 180, 'min_samples_split': 1369, 'min_samples_leaf': 1383}. Best is trial 11 with value: 0.99.\u001b[0m\n",
      "\u001b[32m[I 2022-04-20 03:43:44,411]\u001b[0m Trial 41 finished with value: 0.99 and parameters: {'n_estimators': 44, 'criterion': 'entropy', 'max_depth': 140, 'min_samples_split': 1072, 'min_samples_leaf': 382}. Best is trial 11 with value: 0.99.\u001b[0m\n",
      "\u001b[32m[I 2022-04-20 03:45:13,763]\u001b[0m Trial 42 finished with value: 0.99 and parameters: {'n_estimators': 148, 'criterion': 'entropy', 'max_depth': 30, 'min_samples_split': 550, 'min_samples_leaf': 310}. Best is trial 11 with value: 0.99.\u001b[0m\n",
      "\u001b[32m[I 2022-04-20 03:46:11,271]\u001b[0m Trial 43 finished with value: 0.99 and parameters: {'n_estimators': 93, 'criterion': 'entropy', 'max_depth': 180, 'min_samples_split': 911, 'min_samples_leaf': 401}. Best is trial 11 with value: 0.99.\u001b[0m\n",
      "\u001b[32m[I 2022-04-20 03:47:10,498]\u001b[0m Trial 44 finished with value: 0.98 and parameters: {'n_estimators': 100, 'criterion': 'entropy', 'max_depth': 180, 'min_samples_split': 1390, 'min_samples_leaf': 833}. Best is trial 11 with value: 0.99.\u001b[0m\n",
      "\u001b[32m[I 2022-04-20 03:47:40,475]\u001b[0m Trial 45 finished with value: 0.99 and parameters: {'n_estimators': 43, 'criterion': 'entropy', 'max_depth': 200, 'min_samples_split': 905, 'min_samples_leaf': 479}. Best is trial 11 with value: 0.99.\u001b[0m\n",
      "\u001b[32m[I 2022-04-20 03:50:47,333]\u001b[0m Trial 46 finished with value: 0.99 and parameters: {'n_estimators': 323, 'criterion': 'entropy', 'max_depth': 110, 'min_samples_split': 345, 'min_samples_leaf': 259}. Best is trial 11 with value: 0.99.\u001b[0m\n",
      "\u001b[32m[I 2022-04-20 03:51:26,683]\u001b[0m Trial 47 finished with value: 0.98 and parameters: {'n_estimators': 58, 'criterion': 'entropy', 'max_depth': 160, 'min_samples_split': 201, 'min_samples_leaf': 528}. Best is trial 11 with value: 0.99.\u001b[0m\n",
      "\u001b[32m[I 2022-04-20 03:55:47,654]\u001b[0m Trial 48 finished with value: 0.96 and parameters: {'n_estimators': 544, 'criterion': 'gini', 'max_depth': 100, 'min_samples_split': 3269, 'min_samples_leaf': 377}. Best is trial 11 with value: 0.99.\u001b[0m\n",
      "\u001b[32m[I 2022-04-20 03:58:22,848]\u001b[0m Trial 49 finished with value: 0.99 and parameters: {'n_estimators': 268, 'criterion': 'entropy', 'max_depth': 70, 'min_samples_split': 657, 'min_samples_leaf': 238}. Best is trial 11 with value: 0.99.\u001b[0m\n",
      "\u001b[32m[I 2022-04-20 04:03:43,715]\u001b[0m Trial 50 finished with value: 0.95 and parameters: {'n_estimators': 742, 'criterion': 'entropy', 'max_depth': 150, 'min_samples_split': 229, 'min_samples_leaf': 2812}. Best is trial 11 with value: 0.99.\u001b[0m\n",
      "\u001b[32m[I 2022-04-20 04:06:13,798]\u001b[0m Trial 51 finished with value: 0.99 and parameters: {'n_estimators': 258, 'criterion': 'entropy', 'max_depth': 50, 'min_samples_split': 422, 'min_samples_leaf': 241}. Best is trial 11 with value: 0.99.\u001b[0m\n",
      "\u001b[32m[I 2022-04-20 04:08:14,075]\u001b[0m Trial 52 finished with value: 0.99 and parameters: {'n_estimators': 201, 'criterion': 'entropy', 'max_depth': 70, 'min_samples_split': 364, 'min_samples_leaf': 275}. Best is trial 11 with value: 0.99.\u001b[0m\n",
      "\u001b[32m[I 2022-04-20 04:12:30,987]\u001b[0m Trial 53 finished with value: 0.99 and parameters: {'n_estimators': 445, 'criterion': 'entropy', 'max_depth': 90, 'min_samples_split': 403, 'min_samples_leaf': 265}. Best is trial 11 with value: 0.99.\u001b[0m\n",
      "\u001b[32m[I 2022-04-20 04:14:35,404]\u001b[0m Trial 54 finished with value: 0.99 and parameters: {'n_estimators': 212, 'criterion': 'entropy', 'max_depth': 70, 'min_samples_split': 297, 'min_samples_leaf': 278}. Best is trial 11 with value: 0.99.\u001b[0m\n",
      "\u001b[32m[I 2022-04-20 04:18:00,649]\u001b[0m Trial 55 finished with value: 0.99 and parameters: {'n_estimators': 373, 'criterion': 'entropy', 'max_depth': 10, 'min_samples_split': 274, 'min_samples_leaf': 202}. Best is trial 11 with value: 0.99.\u001b[0m\n",
      "\u001b[32m[I 2022-04-20 04:18:28,850]\u001b[0m Trial 56 finished with value: 0.99 and parameters: {'n_estimators': 37, 'criterion': 'entropy', 'max_depth': 280, 'min_samples_split': 1120, 'min_samples_leaf': 358}. Best is trial 11 with value: 0.99.\u001b[0m\n",
      "\u001b[32m[I 2022-04-20 04:22:41,865]\u001b[0m Trial 57 finished with value: 0.99 and parameters: {'n_estimators': 431, 'criterion': 'entropy', 'max_depth': 50, 'min_samples_split': 251, 'min_samples_leaf': 220}. Best is trial 11 with value: 0.99.\u001b[0m\n",
      "\u001b[32m[I 2022-04-20 04:24:45,115]\u001b[0m Trial 58 finished with value: 0.94 and parameters: {'n_estimators': 292, 'criterion': 'entropy', 'max_depth': 290, 'min_samples_split': 511, 'min_samples_leaf': 4404}. Best is trial 11 with value: 0.99.\u001b[0m\n",
      "\u001b[32m[I 2022-04-20 04:26:19,842]\u001b[0m Trial 59 finished with value: 0.97 and parameters: {'n_estimators': 169, 'criterion': 'gini', 'max_depth': 110, 'min_samples_split': 1875, 'min_samples_leaf': 448}. Best is trial 11 with value: 0.99.\u001b[0m\n",
      "\u001b[32m[I 2022-04-20 04:27:00,392]\u001b[0m Trial 60 finished with value: 0.99 and parameters: {'n_estimators': 56, 'criterion': 'entropy', 'max_depth': 200, 'min_samples_split': 861, 'min_samples_leaf': 481}. Best is trial 11 with value: 0.99.\u001b[0m\n",
      "\u001b[32m[I 2022-04-20 04:27:19,423]\u001b[0m Trial 61 finished with value: 0.98 and parameters: {'n_estimators': 23, 'criterion': 'entropy', 'max_depth': 210, 'min_samples_split': 808, 'min_samples_leaf': 587}. Best is trial 11 with value: 0.99.\u001b[0m\n",
      "\u001b[32m[I 2022-04-20 04:30:22,163]\u001b[0m Trial 62 finished with value: 0.99 and parameters: {'n_estimators': 319, 'criterion': 'entropy', 'max_depth': 170, 'min_samples_split': 341, 'min_samples_leaf': 387}. Best is trial 11 with value: 0.99.\u001b[0m\n",
      "\u001b[32m[I 2022-04-20 04:32:45,345]\u001b[0m Trial 63 finished with value: 0.99 and parameters: {'n_estimators': 243, 'criterion': 'entropy', 'max_depth': 20, 'min_samples_split': 454, 'min_samples_leaf': 202}. Best is trial 11 with value: 0.99.\u001b[0m\n",
      "\u001b[32m[I 2022-04-20 04:36:10,433]\u001b[0m Trial 64 finished with value: 0.99 and parameters: {'n_estimators': 360, 'criterion': 'entropy', 'max_depth': 40, 'min_samples_split': 493, 'min_samples_leaf': 222}. Best is trial 11 with value: 0.99.\u001b[0m\n",
      "\u001b[32m[I 2022-04-20 04:38:39,382]\u001b[0m Trial 65 finished with value: 0.99 and parameters: {'n_estimators': 252, 'criterion': 'entropy', 'max_depth': 20, 'min_samples_split': 565, 'min_samples_leaf': 206}. Best is trial 11 with value: 0.99.\u001b[0m\n",
      "\u001b[32m[I 2022-04-20 04:39:58,160]\u001b[0m Trial 66 finished with value: 0.99 and parameters: {'n_estimators': 123, 'criterion': 'entropy', 'max_depth': 40, 'min_samples_split': 682, 'min_samples_leaf': 226}. Best is trial 11 with value: 0.99.\u001b[0m\n",
      "\u001b[32m[I 2022-04-20 04:41:51,715]\u001b[0m Trial 67 finished with value: 0.99 and parameters: {'n_estimators': 188, 'criterion': 'entropy', 'max_depth': 20, 'min_samples_split': 572, 'min_samples_leaf': 205}. Best is trial 11 with value: 0.99.\u001b[0m\n",
      "\u001b[32m[I 2022-04-20 04:43:01,977]\u001b[0m Trial 68 finished with value: 0.99 and parameters: {'n_estimators': 116, 'criterion': 'entropy', 'max_depth': 40, 'min_samples_split': 683, 'min_samples_leaf': 333}. Best is trial 11 with value: 0.99.\u001b[0m\n",
      "\u001b[32m[I 2022-04-20 04:43:51,802]\u001b[0m Trial 69 finished with value: 0.99 and parameters: {'n_estimators': 80, 'criterion': 'entropy', 'max_depth': 10, 'min_samples_split': 721, 'min_samples_leaf': 312}. Best is trial 11 with value: 0.99.\u001b[0m\n",
      "\u001b[32m[I 2022-04-20 04:44:36,366]\u001b[0m Trial 70 finished with value: 0.98 and parameters: {'n_estimators': 74, 'criterion': 'gini', 'max_depth': 30, 'min_samples_split': 707, 'min_samples_leaf': 321}. Best is trial 11 with value: 0.99.\u001b[0m\n",
      "\u001b[32m[I 2022-04-20 04:45:06,464]\u001b[0m Trial 71 finished with value: 0.99 and parameters: {'n_estimators': 43, 'criterion': 'entropy', 'max_depth': 190, 'min_samples_split': 1001, 'min_samples_leaf': 417}. Best is trial 11 with value: 0.99.\u001b[0m\n",
      "\u001b[32m[I 2022-04-20 04:46:30,274]\u001b[0m Trial 72 finished with value: 0.99 and parameters: {'n_estimators': 141, 'criterion': 'entropy', 'max_depth': 30, 'min_samples_split': 516, 'min_samples_leaf': 301}. Best is trial 11 with value: 0.99.\u001b[0m\n"
     ]
    },
    {
     "name": "stderr",
     "output_type": "stream",
     "text": [
      "\u001b[32m[I 2022-04-20 04:50:05,351]\u001b[0m Trial 73 finished with value: 0.99 and parameters: {'n_estimators': 380, 'criterion': 'entropy', 'max_depth': 60, 'min_samples_split': 1053, 'min_samples_leaf': 245}. Best is trial 11 with value: 0.99.\u001b[0m\n",
      "\u001b[32m[I 2022-04-20 04:51:37,889]\u001b[0m Trial 74 finished with value: 0.99 and parameters: {'n_estimators': 158, 'criterion': 'entropy', 'max_depth': 30, 'min_samples_split': 522, 'min_samples_leaf': 319}. Best is trial 11 with value: 0.99.\u001b[0m\n",
      "\u001b[32m[I 2022-04-20 04:53:04,735]\u001b[0m Trial 75 finished with value: 0.99 and parameters: {'n_estimators': 139, 'criterion': 'entropy', 'max_depth': 60, 'min_samples_split': 790, 'min_samples_leaf': 241}. Best is trial 11 with value: 0.99.\u001b[0m\n",
      "\u001b[32m[I 2022-04-20 04:53:59,232]\u001b[0m Trial 76 finished with value: 0.99 and parameters: {'n_estimators': 88, 'criterion': 'entropy', 'max_depth': 150, 'min_samples_split': 1234, 'min_samples_leaf': 358}. Best is trial 11 with value: 0.99.\u001b[0m\n",
      "\u001b[32m[I 2022-04-20 04:58:13,443]\u001b[0m Trial 77 finished with value: 0.99 and parameters: {'n_estimators': 446, 'criterion': 'entropy', 'max_depth': 80, 'min_samples_split': 314, 'min_samples_leaf': 273}. Best is trial 11 with value: 0.99.\u001b[0m\n",
      "\u001b[32m[I 2022-04-20 05:04:43,261]\u001b[0m Trial 78 finished with value: 0.99 and parameters: {'n_estimators': 686, 'criterion': 'entropy', 'max_depth': 40, 'min_samples_split': 475, 'min_samples_leaf': 221}. Best is trial 11 with value: 0.99.\u001b[0m\n",
      "\u001b[32m[I 2022-04-20 05:05:24,666]\u001b[0m Trial 79 finished with value: 0.98 and parameters: {'n_estimators': 65, 'criterion': 'entropy', 'max_depth': 130, 'min_samples_split': 1261, 'min_samples_leaf': 519}. Best is trial 11 with value: 0.99.\u001b[0m\n",
      "\u001b[32m[I 2022-04-20 05:07:26,375]\u001b[0m Trial 80 finished with value: 0.99 and parameters: {'n_estimators': 210, 'criterion': 'entropy', 'max_depth': 260, 'min_samples_split': 255, 'min_samples_leaf': 280}. Best is trial 11 with value: 0.99.\u001b[0m\n",
      "\u001b[32m[I 2022-04-20 05:08:33,842]\u001b[0m Trial 81 finished with value: 0.99 and parameters: {'n_estimators': 109, 'criterion': 'entropy', 'max_depth': 50, 'min_samples_split': 615, 'min_samples_leaf': 238}. Best is trial 11 with value: 0.99.\u001b[0m\n",
      "\u001b[32m[I 2022-04-20 05:10:24,834]\u001b[0m Trial 82 finished with value: 0.99 and parameters: {'n_estimators': 188, 'criterion': 'entropy', 'max_depth': 20, 'min_samples_split': 597, 'min_samples_leaf': 245}. Best is trial 11 with value: 0.99.\u001b[0m\n",
      "\u001b[32m[I 2022-04-20 05:10:51,647]\u001b[0m Trial 83 finished with value: 0.99 and parameters: {'n_estimators': 36, 'criterion': 'entropy', 'max_depth': 90, 'min_samples_split': 263, 'min_samples_leaf': 354}. Best is trial 11 with value: 0.99.\u001b[0m\n",
      "\u001b[32m[I 2022-04-20 05:11:10,297]\u001b[0m Trial 84 finished with value: 0.99 and parameters: {'n_estimators': 24, 'criterion': 'entropy', 'max_depth': 80, 'min_samples_split': 376, 'min_samples_leaf': 457}. Best is trial 11 with value: 0.99.\u001b[0m\n",
      "\u001b[32m[I 2022-04-20 05:14:36,735]\u001b[0m Trial 85 finished with value: 0.99 and parameters: {'n_estimators': 367, 'criterion': 'entropy', 'max_depth': 230, 'min_samples_split': 284, 'min_samples_leaf': 285}. Best is trial 11 with value: 0.99.\u001b[0m\n",
      "\u001b[32m[I 2022-04-20 05:17:37,337]\u001b[0m Trial 86 finished with value: 0.99 and parameters: {'n_estimators': 326, 'criterion': 'entropy', 'max_depth': 270, 'min_samples_split': 343, 'min_samples_leaf': 371}. Best is trial 11 with value: 0.99.\u001b[0m\n",
      "\u001b[32m[I 2022-04-20 05:21:30,514]\u001b[0m Trial 87 finished with value: 0.99 and parameters: {'n_estimators': 446, 'criterion': 'entropy', 'max_depth': 10, 'min_samples_split': 223, 'min_samples_leaf': 407}. Best is trial 11 with value: 0.99.\u001b[0m\n",
      "\u001b[32m[I 2022-04-20 05:26:21,085]\u001b[0m Trial 88 finished with value: 0.98 and parameters: {'n_estimators': 533, 'criterion': 'entropy', 'max_depth': 170, 'min_samples_split': 1529, 'min_samples_leaf': 784}. Best is trial 11 with value: 0.99.\u001b[0m\n",
      "\u001b[32m[I 2022-04-20 05:28:39,737]\u001b[0m Trial 89 finished with value: 0.99 and parameters: {'n_estimators': 237, 'criterion': 'gini', 'max_depth': 50, 'min_samples_split': 424, 'min_samples_leaf': 206}. Best is trial 11 with value: 0.99.\u001b[0m\n",
      "\u001b[32m[I 2022-04-20 05:31:19,310]\u001b[0m Trial 90 finished with value: 0.99 and parameters: {'n_estimators': 288, 'criterion': 'gini', 'max_depth': 40, 'min_samples_split': 444, 'min_samples_leaf': 228}. Best is trial 11 with value: 0.99.\u001b[0m\n",
      "\u001b[32m[I 2022-04-20 05:31:54,882]\u001b[0m Trial 91 finished with value: 0.97 and parameters: {'n_estimators': 52, 'criterion': 'entropy', 'max_depth': 210, 'min_samples_split': 869, 'min_samples_leaf': 1104}. Best is trial 11 with value: 0.99.\u001b[0m\n",
      "\u001b[32m[I 2022-04-20 05:32:48,653]\u001b[0m Trial 92 finished with value: 0.98 and parameters: {'n_estimators': 91, 'criterion': 'gini', 'max_depth': 140, 'min_samples_split': 945, 'min_samples_leaf': 347}. Best is trial 11 with value: 0.99.\u001b[0m\n",
      "\u001b[32m[I 2022-04-20 05:34:33,993]\u001b[0m Trial 93 finished with value: 0.99 and parameters: {'n_estimators': 170, 'criterion': 'entropy', 'max_depth': 20, 'min_samples_split': 767, 'min_samples_leaf': 259}. Best is trial 11 with value: 0.99.\u001b[0m\n",
      "\u001b[32m[I 2022-04-20 05:37:56,758]\u001b[0m Trial 94 finished with value: 0.99 and parameters: {'n_estimators': 338, 'criterion': 'entropy', 'max_depth': 20, 'min_samples_split': 379, 'min_samples_leaf': 217}. Best is trial 11 with value: 0.99.\u001b[0m\n",
      "\u001b[32m[I 2022-04-20 05:38:48,328]\u001b[0m Trial 95 finished with value: 0.99 and parameters: {'n_estimators': 80, 'criterion': 'entropy', 'max_depth': 10, 'min_samples_split': 736, 'min_samples_leaf': 305}. Best is trial 11 with value: 0.99.\u001b[0m\n",
      "\u001b[32m[I 2022-04-20 05:39:41,163]\u001b[0m Trial 96 finished with value: 0.99 and parameters: {'n_estimators': 83, 'criterion': 'entropy', 'max_depth': 10, 'min_samples_split': 718, 'min_samples_leaf': 302}. Best is trial 11 with value: 0.99.\u001b[0m\n",
      "\u001b[32m[I 2022-04-20 05:42:27,250]\u001b[0m Trial 97 finished with value: 0.99 and parameters: {'n_estimators': 275, 'criterion': 'entropy', 'max_depth': 70, 'min_samples_split': 300, 'min_samples_leaf': 263}. Best is trial 11 with value: 0.99.\u001b[0m\n",
      "\u001b[32m[I 2022-04-20 05:45:06,464]\u001b[0m Trial 98 finished with value: 0.99 and parameters: {'n_estimators': 274, 'criterion': 'entropy', 'max_depth': 70, 'min_samples_split': 633, 'min_samples_leaf': 253}. Best is trial 11 with value: 0.99.\u001b[0m\n",
      "\u001b[32m[I 2022-04-20 05:46:24,038]\u001b[0m Trial 99 finished with value: 0.99 and parameters: {'n_estimators': 123, 'criterion': 'entropy', 'max_depth': 40, 'min_samples_split': 646, 'min_samples_leaf': 224}. Best is trial 11 with value: 0.99.\u001b[0m\n",
      "\u001b[32m[I 2022-04-20 05:46:24,952]\u001b[0m A new study created in memory with name: no-name-1e489367-f617-4202-b2c4-6b107a1f0088\u001b[0m\n",
      "\u001b[32m[I 2022-04-20 05:46:35,167]\u001b[0m Trial 0 finished with value: 0.96 and parameters: {'booster': 'gblinear', 'lambda': 4.584724110646679e-06, 'alpha': 2.2704495598578727e-08, 'subsample': 0.9995162550656591, 'colsample_bytree': 0.24710118407056117}. Best is trial 0 with value: 0.96.\u001b[0m\n",
      "\u001b[32m[I 2022-04-20 05:46:45,253]\u001b[0m Trial 1 finished with value: 0.95 and parameters: {'booster': 'gblinear', 'lambda': 2.8500499261789803e-05, 'alpha': 0.009560313822353197, 'subsample': 0.9007079933105093, 'colsample_bytree': 0.6010046273231759}. Best is trial 0 with value: 0.96.\u001b[0m\n",
      "\u001b[32m[I 2022-04-20 05:49:40,474]\u001b[0m Trial 2 finished with value: 0.98 and parameters: {'booster': 'dart', 'lambda': 0.0018632776204242688, 'alpha': 0.021308293339428765, 'subsample': 0.9657475269411611, 'colsample_bytree': 0.6420668022015406, 'max_depth': 7, 'min_child_weight': 6, 'eta': 3.251035504598719e-05, 'gamma': 4.6342438147578946e-05, 'grow_policy': 'lossguide', 'sample_type': 'uniform', 'normalize_type': 'forest', 'rate_drop': 0.011881422996467335, 'skip_drop': 1.4963800609124517e-06}. Best is trial 2 with value: 0.98.\u001b[0m\n",
      "\u001b[32m[I 2022-04-20 05:49:50,927]\u001b[0m Trial 3 finished with value: 0.95 and parameters: {'booster': 'gblinear', 'lambda': 0.4620822303985828, 'alpha': 9.870923277179615e-08, 'subsample': 0.8432839377360151, 'colsample_bytree': 0.44913263590353136}. Best is trial 2 with value: 0.98.\u001b[0m\n",
      "\u001b[32m[I 2022-04-20 05:50:01,190]\u001b[0m Trial 4 finished with value: 0.96 and parameters: {'booster': 'gblinear', 'lambda': 3.017051932527878e-08, 'alpha': 4.233753456234082e-07, 'subsample': 0.4929332710909992, 'colsample_bytree': 0.38978608266826714}. Best is trial 2 with value: 0.98.\u001b[0m\n"
     ]
    },
    {
     "name": "stderr",
     "output_type": "stream",
     "text": [
      "\u001b[32m[I 2022-04-20 05:52:04,261]\u001b[0m Trial 5 finished with value: 0.92 and parameters: {'booster': 'dart', 'lambda': 9.75316523580896e-07, 'alpha': 2.1586315792690006e-06, 'subsample': 0.3373568409715204, 'colsample_bytree': 0.960722488777457, 'max_depth': 3, 'min_child_weight': 2, 'eta': 2.2216136365850146e-07, 'gamma': 0.2573434601050339, 'grow_policy': 'depthwise', 'sample_type': 'weighted', 'normalize_type': 'tree', 'rate_drop': 1.2569647384870153e-07, 'skip_drop': 0.0013528741548302092}. Best is trial 2 with value: 0.98.\u001b[0m\n",
      "\u001b[32m[I 2022-04-20 05:54:29,437]\u001b[0m Trial 6 finished with value: 0.96 and parameters: {'booster': 'dart', 'lambda': 0.0022107437999008767, 'alpha': 0.017871156504904184, 'subsample': 0.8901047121918755, 'colsample_bytree': 0.7521861320256467, 'max_depth': 5, 'min_child_weight': 4, 'eta': 2.0468708729403664e-07, 'gamma': 0.047809366714886774, 'grow_policy': 'lossguide', 'sample_type': 'weighted', 'normalize_type': 'forest', 'rate_drop': 2.926165600091905e-06, 'skip_drop': 2.4940056517618e-08}. Best is trial 2 with value: 0.98.\u001b[0m\n",
      "\u001b[32m[I 2022-04-20 05:54:39,416]\u001b[0m Trial 7 finished with value: 0.95 and parameters: {'booster': 'gblinear', 'lambda': 3.217401420205289e-07, 'alpha': 0.00669335437462069, 'subsample': 0.4912262417921742, 'colsample_bytree': 0.30925598726827525}. Best is trial 2 with value: 0.98.\u001b[0m\n",
      "\u001b[32m[I 2022-04-20 05:57:29,611]\u001b[0m Trial 8 finished with value: 1.0 and parameters: {'booster': 'dart', 'lambda': 7.609152323823375e-05, 'alpha': 1.49178454309735e-07, 'subsample': 0.6337467076086325, 'colsample_bytree': 0.3351979858223414, 'max_depth': 9, 'min_child_weight': 8, 'eta': 0.1676484432812879, 'gamma': 0.05087824301507081, 'grow_policy': 'depthwise', 'sample_type': 'weighted', 'normalize_type': 'tree', 'rate_drop': 2.9090080604788823e-07, 'skip_drop': 0.2705142358133304}. Best is trial 8 with value: 1.0.\u001b[0m\n",
      "\u001b[32m[I 2022-04-20 05:58:11,496]\u001b[0m Trial 9 finished with value: 1.0 and parameters: {'booster': 'gbtree', 'lambda': 1.0948327685991186e-06, 'alpha': 0.0229335547528392, 'subsample': 0.9766106282225082, 'colsample_bytree': 0.5744278526944597, 'max_depth': 3, 'min_child_weight': 5, 'eta': 0.17717075342216304, 'gamma': 0.003105501755329228, 'grow_policy': 'lossguide'}. Best is trial 8 with value: 1.0.\u001b[0m\n",
      "\u001b[32m[I 2022-04-20 05:59:24,496]\u001b[0m Trial 10 finished with value: 1.0 and parameters: {'booster': 'gbtree', 'lambda': 0.0007596676652045774, 'alpha': 2.293600565889134e-05, 'subsample': 0.6977783112935118, 'colsample_bytree': 0.4570351466468384, 'max_depth': 9, 'min_child_weight': 10, 'eta': 0.14405360112617008, 'gamma': 1.4294450229914969e-08, 'grow_policy': 'depthwise'}. Best is trial 8 with value: 1.0.\u001b[0m\n",
      "\u001b[32m[I 2022-04-20 06:00:15,223]\u001b[0m Trial 11 finished with value: 1.0 and parameters: {'booster': 'gbtree', 'lambda': 2.8959033965484625e-05, 'alpha': 0.7338699657968334, 'subsample': 0.7054238098957326, 'colsample_bytree': 0.7881285082041031, 'max_depth': 9, 'min_child_weight': 9, 'eta': 0.6040908618997325, 'gamma': 0.0010125298711794657, 'grow_policy': 'depthwise'}. Best is trial 8 with value: 1.0.\u001b[0m\n",
      "\u001b[32m[I 2022-04-20 06:00:42,143]\u001b[0m Trial 12 finished with value: 0.93 and parameters: {'booster': 'gbtree', 'lambda': 2.0572040266021235e-08, 'alpha': 0.00020650148962989372, 'subsample': 0.21817994161599452, 'colsample_bytree': 0.21297267887519167, 'max_depth': 3, 'min_child_weight': 7, 'eta': 0.004715747599897293, 'gamma': 0.0007736716653425011, 'grow_policy': 'lossguide'}. Best is trial 8 with value: 1.0.\u001b[0m\n",
      "\u001b[32m[I 2022-04-20 06:03:13,248]\u001b[0m Trial 13 finished with value: 0.96 and parameters: {'booster': 'dart', 'lambda': 0.019857640812595615, 'alpha': 0.00020381691820901918, 'subsample': 0.7040311979087468, 'colsample_bytree': 0.5277558631074134, 'max_depth': 5, 'min_child_weight': 7, 'eta': 0.003686868567966104, 'gamma': 0.00852857958923606, 'grow_policy': 'lossguide', 'sample_type': 'weighted', 'normalize_type': 'tree', 'rate_drop': 3.0754642890156054e-08, 'skip_drop': 0.41699916272477827}. Best is trial 8 with value: 1.0.\u001b[0m\n",
      "\u001b[32m[I 2022-04-20 06:04:14,243]\u001b[0m Trial 14 finished with value: 0.98 and parameters: {'booster': 'gbtree', 'lambda': 2.2418668628594775e-06, 'alpha': 0.6103566858747652, 'subsample': 0.544887023867165, 'colsample_bytree': 0.3576291174857368, 'max_depth': 7, 'min_child_weight': 5, 'eta': 0.008559421090600221, 'gamma': 4.291181017441108e-06, 'grow_policy': 'depthwise'}. Best is trial 8 with value: 1.0.\u001b[0m\n",
      "\u001b[32m[I 2022-04-20 06:06:26,344]\u001b[0m Trial 15 finished with value: 0.92 and parameters: {'booster': 'dart', 'lambda': 0.00018681362679086457, 'alpha': 7.201679223209103e-06, 'subsample': 0.8069714425884651, 'colsample_bytree': 0.7949407593009852, 'max_depth': 3, 'min_child_weight': 8, 'eta': 3.835543001352059e-05, 'gamma': 0.9495497416052847, 'grow_policy': 'depthwise', 'sample_type': 'uniform', 'normalize_type': 'tree', 'rate_drop': 0.00016918364520543145, 'skip_drop': 0.6042207646733744}. Best is trial 8 with value: 1.0.\u001b[0m\n",
      "\u001b[32m[I 2022-04-20 06:07:30,577]\u001b[0m Trial 16 finished with value: 1.0 and parameters: {'booster': 'gbtree', 'lambda': 2.0340628866628813e-07, 'alpha': 0.0005660365865017807, 'subsample': 0.3808604882892588, 'colsample_bytree': 0.6843517144099367, 'max_depth': 7, 'min_child_weight': 3, 'eta': 0.06276903676450135, 'gamma': 0.008893547943725676, 'grow_policy': 'lossguide'}. Best is trial 8 with value: 1.0.\u001b[0m\n",
      "\u001b[32m[I 2022-04-20 06:10:04,628]\u001b[0m Trial 17 finished with value: 1.0 and parameters: {'booster': 'dart', 'lambda': 2.7606761364194357e-05, 'alpha': 0.21966763383588808, 'subsample': 0.6404309062703102, 'colsample_bytree': 0.9290590385692703, 'max_depth': 9, 'min_child_weight': 10, 'eta': 0.952105846465287, 'gamma': 5.2527072378156305e-05, 'grow_policy': 'depthwise', 'sample_type': 'weighted', 'normalize_type': 'tree', 'rate_drop': 2.3840966521856895e-05, 'skip_drop': 0.001156801365350377}. Best is trial 8 with value: 1.0.\u001b[0m\n",
      "\u001b[32m[I 2022-04-20 06:12:01,993]\u001b[0m Trial 18 finished with value: 0.99 and parameters: {'booster': 'gbtree', 'lambda': 0.0211861943319091, 'alpha': 1.9550600216254783e-08, 'subsample': 0.728768297011352, 'colsample_bytree': 0.8509364147274321, 'max_depth': 9, 'min_child_weight': 9, 'eta': 0.0002921303440780844, 'gamma': 1.2646240514823957e-06, 'grow_policy': 'depthwise'}. Best is trial 8 with value: 1.0.\u001b[0m\n",
      "\u001b[32m[I 2022-04-20 06:12:46,969]\u001b[0m Trial 19 finished with value: 0.97 and parameters: {'booster': 'gbtree', 'lambda': 1.0630905276989976e-07, 'alpha': 0.0009739478112632121, 'subsample': 0.38169214734212176, 'colsample_bytree': 0.6150378004253937, 'max_depth': 5, 'min_child_weight': 3, 'eta': 0.01912171459694979, 'gamma': 0.0014155801028304868, 'grow_policy': 'lossguide'}. Best is trial 8 with value: 1.0.\u001b[0m\n",
      "\u001b[32m[I 2022-04-20 06:14:32,295]\u001b[0m Trial 20 finished with value: 0.96 and parameters: {'booster': 'dart', 'lambda': 6.221564269449117e-06, 'alpha': 0.16715676570250732, 'subsample': 0.618824850439259, 'colsample_bytree': 0.9962315079058803, 'max_depth': 5, 'min_child_weight': 5, 'eta': 0.7635354927599838, 'gamma': 3.514297177020474e-05, 'grow_policy': 'lossguide', 'sample_type': 'weighted', 'normalize_type': 'tree', 'rate_drop': 0.6764015724560475, 'skip_drop': 0.0010667453953444905}. Best is trial 8 with value: 1.0.\u001b[0m\n",
      "\u001b[32m[I 2022-04-20 06:15:35,761]\u001b[0m Trial 21 finished with value: 1.0 and parameters: {'booster': 'gbtree', 'lambda': 0.0005200215635862423, 'alpha': 2.6466434620232518e-05, 'subsample': 0.4245293760845662, 'colsample_bytree': 0.6952948854208023, 'max_depth': 7, 'min_child_weight': 10, 'eta': 0.05162556642591238, 'gamma': 1.7383460318485978e-08, 'grow_policy': 'depthwise'}. Best is trial 8 with value: 1.0.\u001b[0m\n",
      "\u001b[32m[I 2022-04-20 06:16:56,494]\u001b[0m Trial 22 finished with value: 0.99 and parameters: {'booster': 'gbtree', 'lambda': 0.016879880465141165, 'alpha': 0.0012333000614861062, 'subsample': 0.2458262010549369, 'colsample_bytree': 0.8958701816089334, 'max_depth': 9, 'min_child_weight': 10, 'eta': 0.0003517086285062058, 'gamma': 1.68800122708978e-08, 'grow_policy': 'depthwise'}. Best is trial 8 with value: 1.0.\u001b[0m\n",
      "\u001b[32m[I 2022-04-20 06:17:57,512]\u001b[0m Trial 23 finished with value: 1.0 and parameters: {'booster': 'gbtree', 'lambda': 2.4163154618635328e-05, 'alpha': 0.8087709654952338, 'subsample': 0.7691747386858533, 'colsample_bytree': 0.8832876483145697, 'max_depth': 7, 'min_child_weight': 9, 'eta': 0.6734243958573313, 'gamma': 0.00028101905550465364, 'grow_policy': 'depthwise'}. Best is trial 8 with value: 1.0.\u001b[0m\n"
     ]
    },
    {
     "name": "stderr",
     "output_type": "stream",
     "text": [
      "\u001b[32m[I 2022-04-20 06:18:42,037]\u001b[0m Trial 24 finished with value: 1.0 and parameters: {'booster': 'gbtree', 'lambda': 0.00026955890048949556, 'alpha': 0.14005402997228733, 'subsample': 0.548644720184531, 'colsample_bytree': 0.7188824751528673, 'max_depth': 9, 'min_child_weight': 10, 'eta': 0.6559098263906041, 'gamma': 2.0113135744491443e-07, 'grow_policy': 'depthwise'}. Best is trial 8 with value: 1.0.\u001b[0m\n",
      "\u001b[32m[I 2022-04-20 06:20:01,153]\u001b[0m Trial 25 finished with value: 1.0 and parameters: {'booster': 'gbtree', 'lambda': 0.00031617144010423866, 'alpha': 0.09426485867576447, 'subsample': 0.46392523295317706, 'colsample_bytree': 0.7047148670253174, 'max_depth': 9, 'min_child_weight': 10, 'eta': 0.03555328237821082, 'gamma': 2.0046614867436906e-07, 'grow_policy': 'depthwise'}. Best is trial 8 with value: 1.0.\u001b[0m\n",
      "\u001b[32m[I 2022-04-20 06:21:07,433]\u001b[0m Trial 26 finished with value: 0.98 and parameters: {'booster': 'gbtree', 'lambda': 0.004479998517228911, 'alpha': 1.8012838425124043e-05, 'subsample': 0.4421420640468474, 'colsample_bytree': 0.8314784682474652, 'max_depth': 7, 'min_child_weight': 9, 'eta': 0.0011026283161130119, 'gamma': 1.1210330691394476e-07, 'grow_policy': 'depthwise'}. Best is trial 8 with value: 1.0.\u001b[0m\n",
      "\u001b[32m[I 2022-04-20 06:24:23,182]\u001b[0m Trial 27 finished with value: 0.99 and parameters: {'booster': 'dart', 'lambda': 8.028727574500667e-05, 'alpha': 4.3721872894550226e-07, 'subsample': 0.6502700105027405, 'colsample_bytree': 0.4713658941244192, 'max_depth': 9, 'min_child_weight': 8, 'eta': 5.0927767554695115e-06, 'gamma': 0.02263814440508096, 'grow_policy': 'depthwise', 'sample_type': 'uniform', 'normalize_type': 'forest', 'rate_drop': 2.2178197207276603e-06, 'skip_drop': 0.036617943707134504}. Best is trial 8 with value: 1.0.\u001b[0m\n",
      "\u001b[32m[I 2022-04-20 06:25:41,418]\u001b[0m Trial 28 finished with value: 1.0 and parameters: {'booster': 'gbtree', 'lambda': 5.020813543370527e-05, 'alpha': 1.749625687830933e-06, 'subsample': 0.6852288954747863, 'colsample_bytree': 0.48847485644987176, 'max_depth': 9, 'min_child_weight': 8, 'eta': 0.11351009219166025, 'gamma': 0.10531521271816545, 'grow_policy': 'depthwise'}. Best is trial 8 with value: 1.0.\u001b[0m\n",
      "\u001b[32m[I 2022-04-20 06:27:02,208]\u001b[0m Trial 29 finished with value: 1.0 and parameters: {'booster': 'gbtree', 'lambda': 0.0002976569093223866, 'alpha': 0.1469516368617349, 'subsample': 0.5449050716984652, 'colsample_bytree': 0.5350797809844698, 'max_depth': 9, 'min_child_weight': 7, 'eta': 0.024156808118563928, 'gamma': 5.320001799482278e-07, 'grow_policy': 'depthwise'}. Best is trial 8 with value: 1.0.\u001b[0m\n",
      "\u001b[32m[I 2022-04-20 06:28:26,913]\u001b[0m Trial 30 finished with value: 1.0 and parameters: {'booster': 'gbtree', 'lambda': 0.12019526391650186, 'alpha': 0.06313708158838902, 'subsample': 0.5815176940977803, 'colsample_bytree': 0.7041824245087004, 'max_depth': 9, 'min_child_weight': 7, 'eta': 0.02448578299711613, 'gamma': 1.8425482339538e-07, 'grow_policy': 'depthwise'}. Best is trial 8 with value: 1.0.\u001b[0m\n",
      "\u001b[32m[I 2022-04-20 06:29:31,587]\u001b[0m Trial 31 finished with value: 0.99 and parameters: {'booster': 'gbtree', 'lambda': 0.19726696923243753, 'alpha': 0.002650860932843158, 'subsample': 0.5714885322150378, 'colsample_bytree': 0.6545529867622844, 'max_depth': 7, 'min_child_weight': 6, 'eta': 0.019943849039388607, 'gamma': 5.613174470705995e-06, 'grow_policy': 'lossguide'}. Best is trial 8 with value: 1.0.\u001b[0m\n",
      "\u001b[32m[I 2022-04-20 06:29:42,191]\u001b[0m Trial 32 finished with value: 0.95 and parameters: {'booster': 'gblinear', 'lambda': 0.11035466535581957, 'alpha': 6.383300209105954e-05, 'subsample': 0.3446687385173567, 'colsample_bytree': 0.9360122632301765}. Best is trial 8 with value: 1.0.\u001b[0m\n",
      "\u001b[32m[I 2022-04-20 06:30:35,314]\u001b[0m Trial 33 finished with value: 1.0 and parameters: {'booster': 'gbtree', 'lambda': 1.2848774203531264e-05, 'alpha': 0.9623908651431238, 'subsample': 0.7823405551475076, 'colsample_bytree': 0.8859246653212082, 'max_depth': 7, 'min_child_weight': 9, 'eta': 0.9133227420836117, 'gamma': 0.00017979083810350235, 'grow_policy': 'depthwise'}. Best is trial 8 with value: 1.0.\u001b[0m\n",
      "\u001b[32m[I 2022-04-20 06:31:36,143]\u001b[0m Trial 34 finished with value: 0.99 and parameters: {'booster': 'gbtree', 'lambda': 2.811097757121409e-07, 'alpha': 0.05018256640544281, 'subsample': 0.2913134158894284, 'colsample_bytree': 0.5869644303645337, 'max_depth': 9, 'min_child_weight': 7, 'eta': 0.0020876859820892924, 'gamma': 0.28577562688357916, 'grow_policy': 'lossguide'}. Best is trial 8 with value: 1.0.\u001b[0m\n",
      "\u001b[32m[I 2022-04-20 06:31:44,426]\u001b[0m Trial 35 finished with value: 0.91 and parameters: {'booster': 'gblinear', 'lambda': 2.1269263124675805e-05, 'alpha': 0.36141228971162354, 'subsample': 0.767447354703092, 'colsample_bytree': 0.7688299958848814}. Best is trial 8 with value: 1.0.\u001b[0m\n",
      "\u001b[32m[I 2022-04-20 06:34:42,024]\u001b[0m Trial 36 finished with value: 1.0 and parameters: {'booster': 'dart', 'lambda': 8.352103186598347e-06, 'alpha': 0.19382073538389924, 'subsample': 0.8597625451735629, 'colsample_bytree': 0.9343250492486439, 'max_depth': 7, 'min_child_weight': 2, 'eta': 0.3468319643701783, 'gamma': 0.00031056254899499845, 'grow_policy': 'depthwise', 'sample_type': 'weighted', 'normalize_type': 'tree', 'rate_drop': 0.0002706584600356989, 'skip_drop': 1.3466000654825464e-05}. Best is trial 8 with value: 1.0.\u001b[0m\n",
      "\u001b[32m[I 2022-04-20 06:37:39,085]\u001b[0m Trial 37 finished with value: 1.0 and parameters: {'booster': 'dart', 'lambda': 5.772304031207441e-06, 'alpha': 0.0039192781334134, 'subsample': 0.9244521787419802, 'colsample_bytree': 0.8428911488274305, 'max_depth': 7, 'min_child_weight': 2, 'eta': 0.25381303477108746, 'gamma': 0.0003156793941181182, 'grow_policy': 'lossguide', 'sample_type': 'weighted', 'normalize_type': 'forest', 'rate_drop': 0.0008992694798189898, 'skip_drop': 8.394968771491314e-06}. Best is trial 8 with value: 1.0.\u001b[0m\n",
      "\u001b[32m[I 2022-04-20 06:40:49,836]\u001b[0m Trial 38 finished with value: 0.97 and parameters: {'booster': 'dart', 'lambda': 5.159008279829448e-07, 'alpha': 0.005327176479647254, 'subsample': 0.9348257193674283, 'colsample_bytree': 0.8383799950991799, 'max_depth': 7, 'min_child_weight': 3, 'eta': 1.4041076423884993e-08, 'gamma': 1.625726241379268e-05, 'grow_policy': 'lossguide', 'sample_type': 'weighted', 'normalize_type': 'forest', 'rate_drop': 0.0033602082781927756, 'skip_drop': 8.608773521412328e-05}. Best is trial 8 with value: 1.0.\u001b[0m\n",
      "\u001b[32m[I 2022-04-20 06:40:59,980]\u001b[0m Trial 39 finished with value: 0.96 and parameters: {'booster': 'gblinear', 'lambda': 0.0007531391520026059, 'alpha': 2.5808132918379603e-06, 'subsample': 0.4400733016311243, 'colsample_bytree': 0.6392915001926041}. Best is trial 8 with value: 1.0.\u001b[0m\n",
      "\u001b[32m[I 2022-04-20 06:41:47,133]\u001b[0m Trial 40 finished with value: 0.99 and parameters: {'booster': 'gbtree', 'lambda': 0.0008261365882302368, 'alpha': 0.021300609503010107, 'subsample': 0.4936224445547915, 'colsample_bytree': 0.5229042502348037, 'max_depth': 5, 'min_child_weight': 9, 'eta': 0.055596763408883365, 'gamma': 8.193136869668045e-07, 'grow_policy': 'depthwise'}. Best is trial 8 with value: 1.0.\u001b[0m\n",
      "\u001b[32m[I 2022-04-20 06:43:05,017]\u001b[0m Trial 41 finished with value: 1.0 and parameters: {'booster': 'gbtree', 'lambda': 5.806945552843733e-05, 'alpha': 0.061528797262863144, 'subsample': 0.5904160503700044, 'colsample_bytree': 0.5294110898215593, 'max_depth': 9, 'min_child_weight': 8, 'eta': 0.04137124856978967, 'gamma': 1.0643634192491593e-07, 'grow_policy': 'depthwise'}. Best is trial 8 with value: 1.0.\u001b[0m\n",
      "\u001b[32m[I 2022-04-20 06:44:08,698]\u001b[0m Trial 42 finished with value: 1.0 and parameters: {'booster': 'gbtree', 'lambda': 0.0001585554913038745, 'alpha': 0.05950455526411792, 'subsample': 0.41517692291941766, 'colsample_bytree': 0.7226493624216516, 'max_depth': 9, 'min_child_weight': 10, 'eta': 0.06655848203893557, 'gamma': 4.830019451676742e-08, 'grow_policy': 'depthwise'}. Best is trial 8 with value: 1.0.\u001b[0m\n",
      "\u001b[32m[I 2022-04-20 06:47:15,243]\u001b[0m Trial 43 finished with value: 1.0 and parameters: {'booster': 'dart', 'lambda': 6.612404197915229e-06, 'alpha': 0.01156581864558591, 'subsample': 0.8571943240115433, 'colsample_bytree': 0.8894502517041667, 'max_depth': 7, 'min_child_weight': 2, 'eta': 0.221970071005652, 'gamma': 0.0004893725523829006, 'grow_policy': 'depthwise', 'sample_type': 'weighted', 'normalize_type': 'forest', 'rate_drop': 0.0007123732976366459, 'skip_drop': 2.5696959478611093e-06}. Best is trial 8 with value: 1.0.\u001b[0m\n"
     ]
    },
    {
     "name": "stderr",
     "output_type": "stream",
     "text": [
      "\u001b[32m[I 2022-04-20 06:50:37,059]\u001b[0m Trial 44 finished with value: 1.0 and parameters: {'booster': 'dart', 'lambda': 1.2366958874051163e-05, 'alpha': 0.03337176583448687, 'subsample': 0.9181960365675477, 'colsample_bytree': 0.982248946671066, 'max_depth': 7, 'min_child_weight': 2, 'eta': 0.258316978826922, 'gamma': 0.00015150178727705806, 'grow_policy': 'depthwise', 'sample_type': 'weighted', 'normalize_type': 'forest', 'rate_drop': 0.0598082898660902, 'skip_drop': 4.492474533809694e-06}. Best is trial 8 with value: 1.0.\u001b[0m\n",
      "\u001b[32m[I 2022-04-20 06:53:00,153]\u001b[0m Trial 45 finished with value: 1.0 and parameters: {'booster': 'dart', 'lambda': 0.00041683979010025444, 'alpha': 0.20295580180312237, 'subsample': 0.4925958919491056, 'colsample_bytree': 0.748546185179637, 'max_depth': 9, 'min_child_weight': 10, 'eta': 0.983651179033978, 'gamma': 4.590380349960629e-08, 'grow_policy': 'depthwise', 'sample_type': 'weighted', 'normalize_type': 'tree', 'rate_drop': 0.1506583976424381, 'skip_drop': 5.1703661782112384e-08}. Best is trial 8 with value: 1.0.\u001b[0m\n",
      "\u001b[32m[I 2022-04-20 06:55:36,626]\u001b[0m Trial 46 finished with value: 1.0 and parameters: {'booster': 'dart', 'lambda': 0.0024991371183255597, 'alpha': 1.93227731193576e-06, 'subsample': 0.4998581699038911, 'colsample_bytree': 0.43794803423819606, 'max_depth': 9, 'min_child_weight': 10, 'eta': 0.11858375973147735, 'gamma': 3.67937095080678e-08, 'grow_policy': 'depthwise', 'sample_type': 'uniform', 'normalize_type': 'forest', 'rate_drop': 0.1327523698671002, 'skip_drop': 3.7978262805340326e-08}. Best is trial 8 with value: 1.0.\u001b[0m\n",
      "\u001b[32m[I 2022-04-20 06:58:58,328]\u001b[0m Trial 47 finished with value: 0.97 and parameters: {'booster': 'dart', 'lambda': 1.930433365880593e-06, 'alpha': 0.041598324667153345, 'subsample': 0.8664351230017714, 'colsample_bytree': 0.9845934121372281, 'max_depth': 7, 'min_child_weight': 4, 'eta': 3.707011343835588e-06, 'gamma': 8.411642082817635e-05, 'grow_policy': 'depthwise', 'sample_type': 'weighted', 'normalize_type': 'forest', 'rate_drop': 0.020719327632758595, 'skip_drop': 8.751675731316974e-07}. Best is trial 8 with value: 1.0.\u001b[0m\n",
      "\u001b[32m[I 2022-04-20 07:00:18,721]\u001b[0m Trial 48 finished with value: 0.99 and parameters: {'booster': 'gbtree', 'lambda': 0.00022450455732925554, 'alpha': 1.384894298387229e-07, 'subsample': 0.5504486858533584, 'colsample_bytree': 0.40103968771461784, 'max_depth': 9, 'min_child_weight': 9, 'eta': 0.010380291119919753, 'gamma': 6.615021900365127e-07, 'grow_policy': 'depthwise'}. Best is trial 8 with value: 1.0.\u001b[0m\n",
      "\u001b[32m[I 2022-04-20 07:01:31,888]\u001b[0m Trial 49 finished with value: 1.0 and parameters: {'booster': 'gbtree', 'lambda': 0.006410557479995683, 'alpha': 5.447866022498842e-05, 'subsample': 0.6720204396604572, 'colsample_bytree': 0.5619450495697116, 'max_depth': 9, 'min_child_weight': 8, 'eta': 0.11216542841215923, 'gamma': 1.0771623144245761e-08, 'grow_policy': 'depthwise'}. Best is trial 8 with value: 1.0.\u001b[0m\n",
      "\u001b[32m[I 2022-04-20 07:02:21,806]\u001b[0m Trial 50 finished with value: 1.0 and parameters: {'booster': 'gbtree', 'lambda': 4.0467240274887494e-05, 'alpha': 0.38244502971206973, 'subsample': 0.5257709491633428, 'colsample_bytree': 0.4895496094411792, 'max_depth': 9, 'min_child_weight': 8, 'eta': 0.33266460718685753, 'gamma': 3.79399622815086e-07, 'grow_policy': 'depthwise'}. Best is trial 8 with value: 1.0.\u001b[0m\n",
      "\u001b[32m[I 2022-04-20 07:03:43,821]\u001b[0m Trial 51 finished with value: 0.99 and parameters: {'booster': 'gbtree', 'lambda': 0.007385705039758368, 'alpha': 0.10681861162836429, 'subsample': 0.6687302148280616, 'colsample_bytree': 0.548921618770351, 'max_depth': 9, 'min_child_weight': 7, 'eta': 0.011938477453319824, 'gamma': 3.004152595059444e-07, 'grow_policy': 'depthwise'}. Best is trial 8 with value: 1.0.\u001b[0m\n",
      "\u001b[32m[I 2022-04-20 07:04:29,374]\u001b[0m Trial 52 finished with value: 1.0 and parameters: {'booster': 'gbtree', 'lambda': 0.5986035811009165, 'alpha': 0.4260165731344203, 'subsample': 0.4398099847284315, 'colsample_bytree': 0.7027730518251752, 'max_depth': 9, 'min_child_weight': 9, 'eta': 0.34709730809668504, 'gamma': 1.7820259139712247e-07, 'grow_policy': 'depthwise'}. Best is trial 8 with value: 1.0.\u001b[0m\n",
      "\u001b[32m[I 2022-04-20 07:05:41,603]\u001b[0m Trial 53 finished with value: 1.0 and parameters: {'booster': 'gbtree', 'lambda': 0.24421785197665463, 'alpha': 0.09145308437639674, 'subsample': 0.4704497147887844, 'colsample_bytree': 0.7168096906300533, 'max_depth': 9, 'min_child_weight': 7, 'eta': 0.022678124339567268, 'gamma': 2.1647346106484352e-06, 'grow_policy': 'depthwise'}. Best is trial 8 with value: 1.0.\u001b[0m\n",
      "\u001b[32m[I 2022-04-20 07:06:47,280]\u001b[0m Trial 54 finished with value: 0.99 and parameters: {'booster': 'gbtree', 'lambda': 0.884398390575314, 'alpha': 0.00849433465928224, 'subsample': 0.4615978750712124, 'colsample_bytree': 0.6664985220242929, 'max_depth': 9, 'min_child_weight': 7, 'eta': 0.004852832854650827, 'gamma': 2.6345664003201715e-06, 'grow_policy': 'depthwise'}. Best is trial 8 with value: 1.0.\u001b[0m\n",
      "\u001b[32m[I 2022-04-20 07:08:04,987]\u001b[0m Trial 55 finished with value: 1.0 and parameters: {'booster': 'gbtree', 'lambda': 7.304122967431647e-05, 'alpha': 0.10235195547789379, 'subsample': 0.6006761956438895, 'colsample_bytree': 0.606056868132144, 'max_depth': 9, 'min_child_weight': 8, 'eta': 0.05441016806948079, 'gamma': 9.40419577766272e-08, 'grow_policy': 'depthwise'}. Best is trial 8 with value: 1.0.\u001b[0m\n",
      "\u001b[32m[I 2022-04-20 07:08:55,902]\u001b[0m Trial 56 finished with value: 1.0 and parameters: {'booster': 'gbtree', 'lambda': 0.00012460232152181134, 'alpha': 0.946819563505559, 'subsample': 0.8070884399188146, 'colsample_bytree': 0.6174934001493679, 'max_depth': 7, 'min_child_weight': 9, 'eta': 0.5323968055311183, 'gamma': 1.735213742427385e-05, 'grow_policy': 'depthwise'}. Best is trial 8 with value: 1.0.\u001b[0m\n",
      "\u001b[32m[I 2022-04-20 07:10:20,400]\u001b[0m Trial 57 finished with value: 0.99 and parameters: {'booster': 'gbtree', 'lambda': 0.0014629214215764565, 'alpha': 4.863876145126379e-08, 'subsample': 0.6009761728236008, 'colsample_bytree': 0.6196302432556611, 'max_depth': 9, 'min_child_weight': 6, 'eta': 0.0017877391980245505, 'gamma': 3.5704362014596646e-07, 'grow_policy': 'depthwise'}. Best is trial 8 with value: 1.0.\u001b[0m\n",
      "\u001b[32m[I 2022-04-20 07:12:43,646]\u001b[0m Trial 58 finished with value: 1.0 and parameters: {'booster': 'dart', 'lambda': 2.9356286365404994e-06, 'alpha': 0.31162867920097836, 'subsample': 0.9934818874564632, 'colsample_bytree': 0.28764334282076587, 'max_depth': 5, 'min_child_weight': 2, 'eta': 0.13281892388934802, 'gamma': 1.8247542616475728e-05, 'grow_policy': 'lossguide', 'sample_type': 'weighted', 'normalize_type': 'tree', 'rate_drop': 3.831440333925484e-05, 'skip_drop': 3.6530071881472384e-05}. Best is trial 8 with value: 1.0.\u001b[0m\n",
      "\u001b[32m[I 2022-04-20 07:12:53,428]\u001b[0m Trial 59 finished with value: 0.94 and parameters: {'booster': 'gblinear', 'lambda': 1.3216998895571019e-05, 'alpha': 0.0151996924563424, 'subsample': 0.7292424107157781, 'colsample_bytree': 0.4260085576422948}. Best is trial 8 with value: 1.0.\u001b[0m\n",
      "\u001b[32m[I 2022-04-20 07:14:02,786]\u001b[0m Trial 60 finished with value: 1.0 and parameters: {'booster': 'gbtree', 'lambda': 0.0003719367137539875, 'alpha': 0.00026183882702756294, 'subsample': 0.8301661534863526, 'colsample_bytree': 0.8009443533538303, 'max_depth': 7, 'min_child_weight': 10, 'eta': 0.14925215718577606, 'gamma': 0.004323587430496799, 'grow_policy': 'depthwise'}. Best is trial 8 with value: 1.0.\u001b[0m\n",
      "\u001b[32m[I 2022-04-20 07:17:27,533]\u001b[0m Trial 61 finished with value: 0.99 and parameters: {'booster': 'dart', 'lambda': 9.830585923504675e-06, 'alpha': 0.2297461166803236, 'subsample': 0.8884003676608999, 'colsample_bytree': 0.9418741558480326, 'max_depth': 7, 'min_child_weight': 3, 'eta': 0.02045590943888555, 'gamma': 0.00024143893818852656, 'grow_policy': 'lossguide', 'sample_type': 'uniform', 'normalize_type': 'tree', 'rate_drop': 0.0009501535825802057, 'skip_drop': 2.8797736294582036e-07}. Best is trial 8 with value: 1.0.\u001b[0m\n",
      "\u001b[32m[I 2022-04-20 07:18:55,127]\u001b[0m Trial 62 finished with value: 1.0 and parameters: {'booster': 'gbtree', 'lambda': 6.306811518036328e-05, 'alpha': 0.0036445154360998074, 'subsample': 0.9414537918336683, 'colsample_bytree': 0.5247538088073437, 'max_depth': 9, 'min_child_weight': 7, 'eta': 0.09147407870745622, 'gamma': 0.00840261733584902, 'grow_policy': 'lossguide'}. Best is trial 8 with value: 1.0.\u001b[0m\n"
     ]
    },
    {
     "name": "stderr",
     "output_type": "stream",
     "text": [
      "\u001b[32m[I 2022-04-20 07:20:07,382]\u001b[0m Trial 63 finished with value: 1.0 and parameters: {'booster': 'gbtree', 'lambda': 0.0001274261322754489, 'alpha': 0.059829588539689706, 'subsample': 0.5759802121662873, 'colsample_bytree': 0.495884565912816, 'max_depth': 9, 'min_child_weight': 8, 'eta': 0.07939294309987624, 'gamma': 0.05785923256737791, 'grow_policy': 'depthwise'}. Best is trial 8 with value: 1.0.\u001b[0m\n",
      "\u001b[32m[I 2022-04-20 07:22:17,026]\u001b[0m Trial 64 finished with value: 0.98 and parameters: {'booster': 'dart', 'lambda': 0.0004666089657334032, 'alpha': 0.03312012409224326, 'subsample': 0.5120401582115719, 'colsample_bytree': 0.7571010170118039, 'max_depth': 7, 'min_child_weight': 10, 'eta': 0.49256553223509686, 'gamma': 3.17323134005364e-08, 'grow_policy': 'depthwise', 'sample_type': 'weighted', 'normalize_type': 'forest', 'rate_drop': 0.8509056651583673, 'skip_drop': 2.75434256156478e-07}. Best is trial 8 with value: 1.0.\u001b[0m\n",
      "\u001b[32m[I 2022-04-20 07:23:32,412]\u001b[0m Trial 65 finished with value: 1.0 and parameters: {'booster': 'gbtree', 'lambda': 0.0002396181416911096, 'alpha': 0.13488588534951734, 'subsample': 0.5537366383613015, 'colsample_bytree': 0.4989958025481051, 'max_depth': 9, 'min_child_weight': 8, 'eta': 0.03391020695509524, 'gamma': 0.10598518144686515, 'grow_policy': 'depthwise'}. Best is trial 8 with value: 1.0.\u001b[0m\n",
      "\u001b[32m[I 2022-04-20 07:24:55,427]\u001b[0m Trial 66 finished with value: 0.99 and parameters: {'booster': 'gbtree', 'lambda': 0.05118536282462802, 'alpha': 8.729630623315003e-05, 'subsample': 0.670504252570778, 'colsample_bytree': 0.5631665909009327, 'max_depth': 9, 'min_child_weight': 8, 'eta': 0.006185437147049191, 'gamma': 0.12932291275776817, 'grow_policy': 'depthwise'}. Best is trial 8 with value: 1.0.\u001b[0m\n",
      "\u001b[32m[I 2022-04-20 07:26:48,490]\u001b[0m Trial 67 finished with value: 0.99 and parameters: {'booster': 'dart', 'lambda': 0.003232622298268887, 'alpha': 4.622452247305804e-07, 'subsample': 0.4102812197007516, 'colsample_bytree': 0.8979652613806741, 'max_depth': 3, 'min_child_weight': 10, 'eta': 0.9954945601054892, 'gamma': 3.1387021837512434e-08, 'grow_policy': 'depthwise', 'sample_type': 'uniform', 'normalize_type': 'forest', 'rate_drop': 0.0877757877231707, 'skip_drop': 3.1616628675317463e-08}. Best is trial 8 with value: 1.0.\u001b[0m\n",
      "\u001b[32m[I 2022-04-20 07:26:58,718]\u001b[0m Trial 68 finished with value: 0.96 and parameters: {'booster': 'gblinear', 'lambda': 1.0573665385108053e-06, 'alpha': 3.681034939429201e-06, 'subsample': 0.5184158289471916, 'colsample_bytree': 0.43705090766072846}. Best is trial 8 with value: 1.0.\u001b[0m\n",
      "\u001b[32m[I 2022-04-20 07:28:13,447]\u001b[0m Trial 69 finished with value: 0.99 and parameters: {'booster': 'gbtree', 'lambda': 0.34046785327720935, 'alpha': 0.43147635507194304, 'subsample': 0.6069111006461778, 'colsample_bytree': 0.7289710649867565, 'max_depth': 9, 'min_child_weight': 6, 'eta': 0.00046719493948402566, 'gamma': 2.3057176989453568e-06, 'grow_policy': 'lossguide'}. Best is trial 8 with value: 1.0.\u001b[0m\n",
      "\u001b[32m[I 2022-04-20 07:28:53,282]\u001b[0m Trial 70 finished with value: 1.0 and parameters: {'booster': 'gbtree', 'lambda': 0.010713954490221556, 'alpha': 2.6768934863857207e-05, 'subsample': 0.33500707577335576, 'colsample_bytree': 0.6919237674200697, 'max_depth': 9, 'min_child_weight': 9, 'eta': 0.4009578135067599, 'gamma': 1.0364242020262115e-08, 'grow_policy': 'depthwise'}. Best is trial 8 with value: 1.0.\u001b[0m\n",
      "\u001b[32m[I 2022-04-20 07:29:58,308]\u001b[0m Trial 71 finished with value: 1.0 and parameters: {'booster': 'gbtree', 'lambda': 4.049400799876536e-06, 'alpha': 6.170279600292868e-06, 'subsample': 0.7678269570111801, 'colsample_bytree': 0.8139369772086571, 'max_depth': 7, 'min_child_weight': 9, 'eta': 0.24143569898090977, 'gamma': 0.0013005809386872715, 'grow_policy': 'depthwise'}. Best is trial 8 with value: 1.0.\u001b[0m\n",
      "\u001b[32m[I 2022-04-20 07:30:39,740]\u001b[0m Trial 72 finished with value: 0.99 and parameters: {'booster': 'gbtree', 'lambda': 0.04486673646851347, 'alpha': 1.1842895115451954e-05, 'subsample': 0.3385627504742018, 'colsample_bytree': 0.671281401967613, 'max_depth': 5, 'min_child_weight': 9, 'eta': 0.038862741122915635, 'gamma': 0.0014457681337705867, 'grow_policy': 'depthwise'}. Best is trial 8 with value: 1.0.\u001b[0m\n",
      "\u001b[32m[I 2022-04-20 07:31:31,623]\u001b[0m Trial 73 finished with value: 1.0 and parameters: {'booster': 'gbtree', 'lambda': 2.0750647779927043e-05, 'alpha': 0.5086092360155979, 'subsample': 0.6427705478902107, 'colsample_bytree': 0.774286177218102, 'max_depth': 9, 'min_child_weight': 5, 'eta': 0.4536626832456012, 'gamma': 2.0480514925469298e-07, 'grow_policy': 'depthwise'}. Best is trial 8 with value: 1.0.\u001b[0m\n",
      "\u001b[32m[I 2022-04-20 07:34:43,362]\u001b[0m Trial 74 finished with value: 1.0 and parameters: {'booster': 'dart', 'lambda': 5.926695944359894e-06, 'alpha': 0.016915080795967263, 'subsample': 0.9158732239002366, 'colsample_bytree': 0.9173953927379209, 'max_depth': 7, 'min_child_weight': 2, 'eta': 0.2480484366124705, 'gamma': 0.000419629616393445, 'grow_policy': 'depthwise', 'sample_type': 'weighted', 'normalize_type': 'forest', 'rate_drop': 0.0005030984291527212, 'skip_drop': 8.278531093172691e-06}. Best is trial 8 with value: 1.0.\u001b[0m\n",
      "\u001b[32m[I 2022-04-20 07:37:46,681]\u001b[0m Trial 75 finished with value: 1.0 and parameters: {'booster': 'dart', 'lambda': 1.837829328613835e-05, 'alpha': 0.0015634288948007356, 'subsample': 0.858130237001034, 'colsample_bytree': 0.867714525676162, 'max_depth': 7, 'min_child_weight': 4, 'eta': 0.2344837766012567, 'gamma': 0.0005835081620199112, 'grow_policy': 'lossguide', 'sample_type': 'weighted', 'normalize_type': 'forest', 'rate_drop': 0.0020284875264536357, 'skip_drop': 1.1221849053442065e-05}. Best is trial 8 with value: 1.0.\u001b[0m\n",
      "\u001b[32m[I 2022-04-20 07:41:05,322]\u001b[0m Trial 76 finished with value: 1.0 and parameters: {'booster': 'dart', 'lambda': 6.354506209451165e-06, 'alpha': 0.01326791615656224, 'subsample': 0.9584703043927149, 'colsample_bytree': 0.9155440313494069, 'max_depth': 7, 'min_child_weight': 2, 'eta': 0.2208262459490881, 'gamma': 0.0005401002452285609, 'grow_policy': 'depthwise', 'sample_type': 'weighted', 'normalize_type': 'forest', 'rate_drop': 0.00025000907211966455, 'skip_drop': 1.712944871874286e-05}. Best is trial 8 with value: 1.0.\u001b[0m\n",
      "\u001b[32m[I 2022-04-20 07:43:41,647]\u001b[0m Trial 77 finished with value: 1.0 and parameters: {'booster': 'dart', 'lambda': 9.37785828843388e-06, 'alpha': 0.8599867492785813, 'subsample': 0.9566386521943964, 'colsample_bytree': 0.8609434838662076, 'max_depth': 7, 'min_child_weight': 3, 'eta': 0.5911345662108629, 'gamma': 0.002544923808071864, 'grow_policy': 'lossguide', 'sample_type': 'weighted', 'normalize_type': 'forest', 'rate_drop': 0.00010611303903603075, 'skip_drop': 0.00023383799818737917}. Best is trial 8 with value: 1.0.\u001b[0m\n",
      "\u001b[32m[I 2022-04-20 07:47:11,837]\u001b[0m Trial 78 finished with value: 1.0 and parameters: {'booster': 'dart', 'lambda': 3.928737317564237e-05, 'alpha': 0.0036508874281953306, 'subsample': 0.9579474239420951, 'colsample_bytree': 0.9618896476848421, 'max_depth': 7, 'min_child_weight': 3, 'eta': 0.08417093180663081, 'gamma': 0.022767906551255962, 'grow_policy': 'lossguide', 'sample_type': 'weighted', 'normalize_type': 'forest', 'rate_drop': 2.587936550004784e-05, 'skip_drop': 0.000317856574801439}. Best is trial 8 with value: 1.0.\u001b[0m\n",
      "\u001b[32m[I 2022-04-20 07:50:02,704]\u001b[0m Trial 79 finished with value: 0.99 and parameters: {'booster': 'dart', 'lambda': 7.34088348598901e-08, 'alpha': 0.004395713902029756, 'subsample': 0.9373101979585793, 'colsample_bytree': 0.5365653882513586, 'max_depth': 7, 'min_child_weight': 7, 'eta': 0.012712168665953984, 'gamma': 0.018238563694231547, 'grow_policy': 'lossguide', 'sample_type': 'weighted', 'normalize_type': 'tree', 'rate_drop': 6.919558906215154e-06, 'skip_drop': 0.006216834998732207}. Best is trial 8 with value: 1.0.\u001b[0m\n",
      "\u001b[32m[I 2022-04-20 07:51:14,051]\u001b[0m Trial 80 finished with value: 1.0 and parameters: {'booster': 'gbtree', 'lambda': 0.11076349244496163, 'alpha': 0.09670630165005402, 'subsample': 0.4645781473669277, 'colsample_bytree': 0.6336061772289215, 'max_depth': 9, 'min_child_weight': 9, 'eta': 0.02205596619858559, 'gamma': 1.6829990461756525e-07, 'grow_policy': 'depthwise'}. Best is trial 8 with value: 1.0.\u001b[0m\n"
     ]
    },
    {
     "name": "stderr",
     "output_type": "stream",
     "text": [
      "\u001b[32m[I 2022-04-20 07:52:06,287]\u001b[0m Trial 81 finished with value: 1.0 and parameters: {'booster': 'gbtree', 'lambda': 2.0758997935076682e-06, 'alpha': 0.25947827778395105, 'subsample': 0.7954518301855233, 'colsample_bytree': 0.26082525003712587, 'max_depth': 5, 'min_child_weight': 9, 'eta': 0.14540159536716196, 'gamma': 2.1527817666146633e-05, 'grow_policy': 'depthwise'}. Best is trial 8 with value: 1.0.\u001b[0m\n",
      "\u001b[32m[I 2022-04-20 07:53:04,996]\u001b[0m Trial 82 finished with value: 1.0 and parameters: {'booster': 'gbtree', 'lambda': 1.7860899196633207e-06, 'alpha': 0.00035214468388909285, 'subsample': 0.991919879023528, 'colsample_bytree': 0.26754977489755316, 'max_depth': 5, 'min_child_weight': 7, 'eta': 0.1128612220635383, 'gamma': 2.4004819248821498e-05, 'grow_policy': 'lossguide'}. Best is trial 8 with value: 1.0.\u001b[0m\n",
      "\u001b[32m[I 2022-04-20 07:55:13,108]\u001b[0m Trial 83 finished with value: 0.99 and parameters: {'booster': 'dart', 'lambda': 0.001441619776966799, 'alpha': 0.03393991384301126, 'subsample': 0.9089240996417592, 'colsample_bytree': 0.20409282068389023, 'max_depth': 5, 'min_child_weight': 10, 'eta': 0.14486364069709823, 'gamma': 5.707916276396365e-08, 'grow_policy': 'depthwise', 'sample_type': 'uniform', 'normalize_type': 'forest', 'rate_drop': 0.1536061086788764, 'skip_drop': 9.018108498630342e-08}. Best is trial 8 with value: 1.0.\u001b[0m\n",
      "\u001b[32m[I 2022-04-20 07:56:34,541]\u001b[0m Trial 84 finished with value: 1.0 and parameters: {'booster': 'gbtree', 'lambda': 4.763979379636783e-05, 'alpha': 0.00017195057352272059, 'subsample': 0.5653553130923976, 'colsample_bytree': 0.49837755726993205, 'max_depth': 9, 'min_child_weight': 8, 'eta': 0.03129611997574394, 'gamma': 0.07975814148132992, 'grow_policy': 'depthwise'}. Best is trial 8 with value: 1.0.\u001b[0m\n",
      "\u001b[32m[I 2022-04-20 07:59:10,636]\u001b[0m Trial 85 finished with value: 1.0 and parameters: {'booster': 'dart', 'lambda': 0.0025708477434444213, 'alpha': 0.01043744727928549, 'subsample': 0.5149811313050494, 'colsample_bytree': 0.36246008959302584, 'max_depth': 9, 'min_child_weight': 2, 'eta': 0.299783936160073, 'gamma': 3.369416196975223e-08, 'grow_policy': 'depthwise', 'sample_type': 'uniform', 'normalize_type': 'forest', 'rate_drop': 0.060824208711874786, 'skip_drop': 2.549693595335051e-06}. Best is trial 8 with value: 1.0.\u001b[0m\n",
      "\u001b[32m[I 2022-04-20 08:02:30,034]\u001b[0m Trial 86 finished with value: 1.0 and parameters: {'booster': 'dart', 'lambda': 0.00012906471652760935, 'alpha': 4.087693358369282e-05, 'subsample': 0.39364326243974307, 'colsample_bytree': 0.964366769684811, 'max_depth': 9, 'min_child_weight': 2, 'eta': 0.058379023054336746, 'gamma': 9.438263627248726e-05, 'grow_policy': 'depthwise', 'sample_type': 'weighted', 'normalize_type': 'forest', 'rate_drop': 0.00981771631875846, 'skip_drop': 1.2624386559850734e-08}. Best is trial 8 with value: 1.0.\u001b[0m\n",
      "\u001b[32m[I 2022-04-20 08:05:12,595]\u001b[0m Trial 87 finished with value: 0.99 and parameters: {'booster': 'dart', 'lambda': 0.0006788763756647597, 'alpha': 0.010388090898895856, 'subsample': 0.48837419835473567, 'colsample_bytree': 0.3670002617981848, 'max_depth': 9, 'min_child_weight': 2, 'eta': 3.699614090608345e-05, 'gamma': 2.5972537136489286e-08, 'grow_policy': 'depthwise', 'sample_type': 'uniform', 'normalize_type': 'forest', 'rate_drop': 0.09790689031982867, 'skip_drop': 3.134716785009523e-06}. Best is trial 8 with value: 1.0.\u001b[0m\n",
      "\u001b[32m[I 2022-04-20 08:06:27,216]\u001b[0m Trial 88 finished with value: 0.99 and parameters: {'booster': 'gbtree', 'lambda': 0.24364527049265472, 'alpha': 0.06781043188463938, 'subsample': 0.569394790742629, 'colsample_bytree': 0.5028665041946905, 'max_depth': 9, 'min_child_weight': 6, 'eta': 0.00282639054938128, 'gamma': 0.44451806631538143, 'grow_policy': 'depthwise'}. Best is trial 8 with value: 1.0.\u001b[0m\n",
      "\u001b[32m[I 2022-04-20 08:06:37,030]\u001b[0m Trial 89 finished with value: 0.92 and parameters: {'booster': 'gblinear', 'lambda': 1.16460787919684e-05, 'alpha': 0.17734507066199873, 'subsample': 0.6266790285921952, 'colsample_bytree': 0.4698816546057508}. Best is trial 8 with value: 1.0.\u001b[0m\n",
      "\u001b[32m[I 2022-04-20 08:09:42,301]\u001b[0m Trial 90 finished with value: 1.0 and parameters: {'booster': 'dart', 'lambda': 4.32593976711628e-06, 'alpha': 0.0016722830810092012, 'subsample': 0.888893246122646, 'colsample_bytree': 0.8608775001298449, 'max_depth': 7, 'min_child_weight': 4, 'eta': 0.22940221186284077, 'gamma': 0.00016863367940960332, 'grow_policy': 'lossguide', 'sample_type': 'weighted', 'normalize_type': 'forest', 'rate_drop': 0.0032678793964094253, 'skip_drop': 2.295784540696255e-05}. Best is trial 8 with value: 1.0.\u001b[0m\n",
      "\u001b[32m[I 2022-04-20 08:11:52,554]\u001b[0m Trial 91 finished with value: 1.0 and parameters: {'booster': 'dart', 'lambda': 0.8006816538875438, 'alpha': 7.79829196046522e-07, 'subsample': 0.4419036587712313, 'colsample_bytree': 0.7264469782603616, 'max_depth': 9, 'min_child_weight': 10, 'eta': 0.9888176231091318, 'gamma': 5.8812223314238396e-08, 'grow_policy': 'depthwise', 'sample_type': 'uniform', 'normalize_type': 'forest', 'rate_drop': 0.01531108944408588, 'skip_drop': 6.289529165875214e-07}. Best is trial 8 with value: 1.0.\u001b[0m\n",
      "\u001b[32m[I 2022-04-20 08:14:14,950]\u001b[0m Trial 92 finished with value: 1.0 and parameters: {'booster': 'dart', 'lambda': 0.00711060826277771, 'alpha': 0.0006231483353188135, 'subsample': 0.5236210054000121, 'colsample_bytree': 0.5939282075887277, 'max_depth': 9, 'min_child_weight': 10, 'eta': 0.3409430778866081, 'gamma': 6.119208848264452e-08, 'grow_policy': 'depthwise', 'sample_type': 'weighted', 'normalize_type': 'forest', 'rate_drop': 0.0052972452617904885, 'skip_drop': 9.917458935371163e-08}. Best is trial 8 with value: 1.0.\u001b[0m\n",
      "\u001b[32m[I 2022-04-20 08:14:55,117]\u001b[0m Trial 93 finished with value: 1.0 and parameters: {'booster': 'gbtree', 'lambda': 0.6434417466428317, 'alpha': 0.3928109570784157, 'subsample': 0.444078419957989, 'colsample_bytree': 0.30866642513353476, 'max_depth': 9, 'min_child_weight': 10, 'eta': 0.5568175140607313, 'gamma': 1.3527398612438932e-06, 'grow_policy': 'lossguide'}. Best is trial 8 with value: 1.0.\u001b[0m\n",
      "\u001b[32m[I 2022-04-20 08:16:13,411]\u001b[0m Trial 94 finished with value: 1.0 and parameters: {'booster': 'gbtree', 'lambda': 0.0011301366503050872, 'alpha': 0.2922969677710476, 'subsample': 0.8227853782095228, 'colsample_bytree': 0.5715969965794965, 'max_depth': 9, 'min_child_weight': 9, 'eta': 0.08917182833923139, 'gamma': 5.312425544259275e-06, 'grow_policy': 'depthwise'}. Best is trial 8 with value: 1.0.\u001b[0m\n",
      "\u001b[32m[I 2022-04-20 08:19:00,967]\u001b[0m Trial 95 finished with value: 1.0 and parameters: {'booster': 'dart', 'lambda': 3.3571319417100335e-05, 'alpha': 0.5710495548671636, 'subsample': 0.8712882377976432, 'colsample_bytree': 0.9687890105044644, 'max_depth': 7, 'min_child_weight': 3, 'eta': 0.4786451112111142, 'gamma': 0.00018057863914227652, 'grow_policy': 'lossguide', 'sample_type': 'weighted', 'normalize_type': 'forest', 'rate_drop': 4.937263456689418e-05, 'skip_drop': 0.0006031503379080726}. Best is trial 8 with value: 1.0.\u001b[0m\n",
      "\u001b[32m[I 2022-04-20 08:22:26,782]\u001b[0m Trial 96 finished with value: 0.97 and parameters: {'booster': 'dart', 'lambda': 2.8113311858358812e-05, 'alpha': 0.023738026192084257, 'subsample': 0.870045652755686, 'colsample_bytree': 0.9569645033324625, 'max_depth': 7, 'min_child_weight': 3, 'eta': 1.943440825462452e-05, 'gamma': 6.472478395844738e-05, 'grow_policy': 'depthwise', 'sample_type': 'weighted', 'normalize_type': 'tree', 'rate_drop': 0.00043158110866870224, 'skip_drop': 0.00018901298311668632}. Best is trial 8 with value: 1.0.\u001b[0m\n",
      "\u001b[32m[I 2022-04-20 08:24:53,083]\u001b[0m Trial 97 finished with value: 1.0 and parameters: {'booster': 'dart', 'lambda': 5.782076134373267e-07, 'alpha': 0.02538279741289346, 'subsample': 0.9144604872091359, 'colsample_bytree': 0.8288439815017139, 'max_depth': 5, 'min_child_weight': 2, 'eta': 0.17645655510026076, 'gamma': 0.0007669061486174116, 'grow_policy': 'depthwise', 'sample_type': 'weighted', 'normalize_type': 'tree', 'rate_drop': 0.0008305540773357463, 'skip_drop': 5.838541600374212e-06}. Best is trial 8 with value: 1.0.\u001b[0m\n",
      "\u001b[32m[I 2022-04-20 08:28:06,741]\u001b[0m Trial 98 finished with value: 1.0 and parameters: {'booster': 'dart', 'lambda': 6.138314699762412e-06, 'alpha': 0.0017608632022802716, 'subsample': 0.9186946692319776, 'colsample_bytree': 0.9161842909027738, 'max_depth': 7, 'min_child_weight': 5, 'eta': 0.19510495093838962, 'gamma': 0.0008057010559095973, 'grow_policy': 'lossguide', 'sample_type': 'weighted', 'normalize_type': 'forest', 'rate_drop': 0.00019074897406696337, 'skip_drop': 1.2699662044490918e-05}. Best is trial 8 with value: 1.0.\u001b[0m\n"
     ]
    },
    {
     "name": "stderr",
     "output_type": "stream",
     "text": [
      "\u001b[32m[I 2022-04-20 08:29:27,400]\u001b[0m Trial 99 finished with value: 1.0 and parameters: {'booster': 'gbtree', 'lambda': 0.0001416961836090076, 'alpha': 0.08562182390664753, 'subsample': 0.7247312922537458, 'colsample_bytree': 0.5526605410626522, 'max_depth': 9, 'min_child_weight': 8, 'eta': 0.06148964682428388, 'gamma': 0.005218995085520491, 'grow_policy': 'depthwise'}. Best is trial 8 with value: 1.0.\u001b[0m\n"
     ]
    },
    {
     "name": "stdout",
     "output_type": "stream",
     "text": [
      "LogisticRegression:\n",
      "Seed: 18464\n",
      "Score: 0.96\n",
      "Parameters: {'max_iter': 820, 'tol': 3.7621124694302437, 'C': 1, 'fit_intercept': True, 'intercept_scaling': 3.0}\n",
      "\n",
      "RandomForest:\n",
      "Seed: 42266\n",
      "Score: 0.99\n",
      "Parameters: {'n_estimators': 32, 'criterion': 'entropy', 'max_depth': 230, 'min_samples_split': 922, 'min_samples_leaf': 447}\n",
      "\n",
      "XGBoost:\n",
      "Seed: 802\n",
      "Score: 1.0\n",
      "Parameters: {'booster': 'dart', 'lambda': 7.609152323823375e-05, 'alpha': 1.49178454309735e-07, 'subsample': 0.6337467076086325, 'colsample_bytree': 0.3351979858223414, 'max_depth': 9, 'min_child_weight': 8, 'eta': 0.1676484432812879, 'gamma': 0.05087824301507081, 'grow_policy': 'depthwise', 'sample_type': 'weighted', 'normalize_type': 'tree', 'rate_drop': 2.9090080604788823e-07, 'skip_drop': 0.2705142358133304}\n",
      "\n"
     ]
    }
   ],
   "source": [
    "def findBestModel(objective_functions, X, y):\n",
    "    trial_dfs = {}\n",
    "    model_data = {}\n",
    "    for key, objective_function in objective_functions.items():\n",
    "        rand = qr.get_data(data_type='uint16', array_length=1)[0]\n",
    "        objective_function = partial(\n",
    "            objective_function,\n",
    "            seed=rand,\n",
    "            X=X,\n",
    "            y=y\n",
    "        )\n",
    "        study = optuna.create_study(direction='maximize')\n",
    "        study.optimize(objective_function, n_trials=100)\n",
    "        trial_dfs[key] = study.trials_dataframe().drop(columns=['number', 'datetime_start',\n",
    "                                                                'datetime_complete', 'duration'])\n",
    "        model_data[key] = (rand, study.best_value, study.best_params)\n",
    "    \n",
    "    for key, item in model_data.items():\n",
    "        print(key + ':')\n",
    "        print('Seed:', item[0])\n",
    "        print('Score:', item[1])\n",
    "        print('Parameters:', item[2])\n",
    "        print()\n",
    "        \n",
    "    return trial_dfs\n",
    "\n",
    "\n",
    "objective_functions = {\n",
    "    'LogisticRegression': objectiveLogReg,\n",
    "    'RandomForest': objectiveRF,\n",
    "    'XGBoost': objectiveXGB\n",
    "}\n",
    "    \n",
    "trial_dfs = findBestModel(objective_functions, X_balanced, y_balanced)"
   ]
  },
  {
   "cell_type": "markdown",
   "id": "7f05560e",
   "metadata": {},
   "source": [
    "# Out Of Sample (\"Live\") Performance Evaluation\n",
    "After hyperparameter optimization, we determined the optimal model for this particular task is XGBoost. After obtaining the optimal hyperparameters, it is next  time to evaluate how well this model would've performed on never before seen data. This will give us a good understanding of how the model will perform in a live setting."
   ]
  },
  {
   "cell_type": "code",
   "execution_count": 122,
   "id": "d0fce9d1",
   "metadata": {},
   "outputs": [
    {
     "name": "stdout",
     "output_type": "stream",
     "text": [
      "Accuracy: 0.9995470632847392\n",
      "Precision: 0.9157894736842105\n",
      "Recall: 0.7131147540983607\n",
      "F1: 0.8018433179723502\n",
      "AUPRC (Average Precision) 0.6534316547515812\n",
      "\n",
      "              precision    recall  f1-score   support\n",
      "\n",
      "           0       1.00      1.00      1.00     94814\n",
      "           1       0.92      0.71      0.80       122\n",
      "\n",
      "    accuracy                           1.00     94936\n",
      "   macro avg       0.96      0.86      0.90     94936\n",
      "weighted avg       1.00      1.00      1.00     94936\n",
      "\n"
     ]
    },
    {
     "data": {
      "image/png": "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\n",
      "text/plain": [
       "<Figure size 432x288 with 2 Axes>"
      ]
     },
     "metadata": {
      "needs_background": "light"
     },
     "output_type": "display_data"
    }
   ],
   "source": [
    "X = test_set.drop(columns='Class')\n",
    "y = test_set['Class']\n",
    "\n",
    "optimal_params = {'booster': 'dart',\n",
    "                  'lambda': 7.609152323823375e-05,\n",
    "                  'alpha': 1.49178454309735e-07,\n",
    "                  'subsample': 0.6337467076086325,\n",
    "                  'colsample_bytree': 0.3351979858223414,\n",
    "                  'max_depth': 9,\n",
    "                  'min_child_weight': 8,\n",
    "                  'eta': 0.1676484432812879,\n",
    "                  'gamma': 0.05087824301507081,\n",
    "                  'grow_policy': 'depthwise',\n",
    "                  'sample_type': 'weighted',\n",
    "                  'normalize_type': 'tree',\n",
    "                  'rate_drop': 2.9090080604788823e-07,\n",
    "                  'skip_drop': 0.2705142358133304}\n",
    "\n",
    "optimal_model = XGBClassifier(random_state=802, eval_metric='logloss', use_label_encoder=False, **optimal_params)\n",
    "optimal_model.fit(X_balanced, y_balanced)\n",
    "predictions = optimal_model.predict(X)\n",
    "\n",
    "# Print Performance Metrics\n",
    "print('Accuracy:', accuracy_score(y, predictions))\n",
    "print('Precision:', precision_score(y, predictions))\n",
    "print('Recall:', recall_score(y, predictions))\n",
    "print('F1:', f1_score(y, predictions))\n",
    "print('AUPRC (Average Precision)', average_precision_score(y, predictions))\n",
    "print()\n",
    "\n",
    "# Classification Report\n",
    "print(classification_report(y, predictions))\n",
    "\n",
    "# Confusion Matrix\n",
    "plot_confusion_matrix(optimal_model, X, y)\n",
    "plt.show()"
   ]
  },
  {
   "cell_type": "markdown",
   "id": "e403ff31",
   "metadata": {},
   "source": [
    "# Feature Importance (interpretable machine learning)\n",
    "Often times when we are trying to find the solution to a problem, we want to find and understand the root of the problem. Feature importance is a way we can do that. Feature importance show us what variables are contributing the most to our predictions. This new information can give businesses insights into the underlying cause and effect mechanisms governing specific problems. Using this information, businesses can futher investigate routines/processes and/or alternative data that relates to a particularly impactful feature.\n",
    "\n",
    "Earlier we talked about using a codependence measure to gauge the feature importance, namly Pearson's correlation. The previously mentioned techinque isn't bad, however, there are better techniques that exist. XGBoost already has built-in feature importance functions, so we will use that. \n",
    "\n",
    "An interesting thing to point out is how features V5, V11, V12, and V14 have the strongest directional correlation with the target variable, however, are ranked 6th, 17th, 10th, and 28th respectively on our feature importance chart."
   ]
  },
  {
   "cell_type": "code",
   "execution_count": 123,
   "id": "4aef35b2",
   "metadata": {},
   "outputs": [
    {
     "data": {
      "text/plain": [
       "<AxesSubplot:title={'center':'Feature Correlation Matrix'}>"
      ]
     },
     "execution_count": 123,
     "metadata": {},
     "output_type": "execute_result"
    },
    {
     "data": {
      "image/png": "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\n",
      "text/plain": [
       "<Figure size 1512x648 with 1 Axes>"
      ]
     },
     "metadata": {
      "needs_background": "light"
     },
     "output_type": "display_data"
    },
    {
     "data": {
      "image/png": "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\n",
      "text/plain": [
       "<Figure size 864x648 with 2 Axes>"
      ]
     },
     "metadata": {
      "needs_background": "light"
     },
     "output_type": "display_data"
    }
   ],
   "source": [
    "def plot_importance(model):\n",
    "        plt.rcParams['figure.figsize'] = (21,9)\n",
    "        ax = xgb.plot_importance(model)\n",
    "        return ax \n",
    "\n",
    "plot_importance(optimal_model)\n",
    "plot_corr_mat(pd.concat([X_balanced, y_balanced], axis='columns').corr(method='pearson'))"
   ]
  },
  {
   "cell_type": "markdown",
   "id": "3d495cbf",
   "metadata": {},
   "source": [
    "# Final Stats\n",
    "* Accuracy: 0.999\n",
    "* Precision: 0.916\n",
    "* Recall: 0.713\n",
    "* F1: 0.801\n",
    "* AUPRC: 0.653\n",
    "* False Positives: 8\n",
    "* False Negatives: 35 \n",
    "* True Positives: 87"
   ]
  },
  {
   "cell_type": "code",
   "execution_count": null,
   "id": "01a85ed3",
   "metadata": {},
   "outputs": [],
   "source": []
  }
 ],
 "metadata": {
  "kernelspec": {
   "display_name": "Python 3 (ipykernel)",
   "language": "python",
   "name": "python3"
  },
  "language_info": {
   "codemirror_mode": {
    "name": "ipython",
    "version": 3
   },
   "file_extension": ".py",
   "mimetype": "text/x-python",
   "name": "python",
   "nbconvert_exporter": "python",
   "pygments_lexer": "ipython3",
   "version": "3.9.7"
  }
 },
 "nbformat": 4,
 "nbformat_minor": 5
}
